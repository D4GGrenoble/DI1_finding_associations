{
 "cells": [
  {
   "cell_type": "markdown",
   "metadata": {},
   "source": [
    "This notebook allows you to generate different maps showing the number of associations per area.\n",
    "\n",
    "The packages requirements can be infered from the `Imports` section.\n",
    "\n",
    "You will need 3 files to run the code. You can modify the path of those files below.\n",
    "\n",
    "- the data cleaned by Brad `clean_data_small.csv`\n",
    "- the shape of the area of the postal codes `codes_postaux_region.shp`. It can be found here : https://www.data.gouv.fr/fr/datasets/fond-de-carte-des-codes-postaux/\n",
    "- the shape of the departements `departements-version-simplifiee.geojson`. It can be found here : https://github.com/gregoiredavid/france-geojson\n",
    "\n",
    "It is assumed that you have a folder `../figures` where the html files of the interactive maps will be saved."
   ]
  },
  {
   "cell_type": "code",
   "execution_count": null,
   "metadata": {},
   "outputs": [],
   "source": [
    "RAW_CSV = '../data/raw/clean_data_small.csv'\n",
    "CP_SHP = '../../code_postaux/codes_postaux_region.shp'\n",
    "DEP_GEOJSON = '../../france-geojson/departements-version-simplifiee.geojson'"
   ]
  },
  {
   "cell_type": "markdown",
   "metadata": {},
   "source": [
    "# Imports"
   ]
  },
  {
   "cell_type": "code",
   "execution_count": 1,
   "metadata": {},
   "outputs": [],
   "source": [
    "import numpy as np\n",
    "import pandas as pd\n",
    "import re"
   ]
  },
  {
   "cell_type": "code",
   "execution_count": 4,
   "metadata": {},
   "outputs": [],
   "source": [
    "import json\n",
    "\n",
    "import bokeh\n",
    "from bokeh.models import (HoverTool, LinearColorMapper, BasicTicker, \n",
    "                          ColorBar, ColumnDataSource, Legend)\n",
    "from bokeh.plotting import figure, output_file, save, show\n",
    "from bokeh.palettes import Viridis256, OrRd, Spectral6, Reds, Greens, Blues\n",
    "from bokeh.layouts import row, column\n",
    "from bokeh.transform import factor_cmap\n",
    "\n",
    "import geopandas as gpd\n",
    "\n",
    "#import folium #fond de carte openstreetmap"
   ]
  },
  {
   "cell_type": "markdown",
   "metadata": {},
   "source": [
    "# Utility functions"
   ]
  },
  {
   "cell_type": "code",
   "execution_count": 7,
   "metadata": {},
   "outputs": [],
   "source": [
    "def getXYCoords(geometry, coord_type):\n",
    "    \"\"\" Return either x or y coordinates from geometry coordinate sequence. \n",
    "    \n",
    "    Arguments:\n",
    "    ----------\n",
    "    geometry: list of tuples of floats\n",
    "        List for geographic coordinates.\n",
    "    coord_type: string\n",
    "        \"x\" for latitude.\n",
    "        \"y\" for longitude.\n",
    "    \n",
    "    Returns:\n",
    "    -------\n",
    "    coords: list of floats\n",
    "        List of either latitudes or longitudes extracted from the list of coordinates.\n",
    "    \"\"\"\n",
    "    if coord_type == 'x':\n",
    "        return [x[0] for x in geometry]\n",
    "    elif coord_type == 'y':\n",
    "        return [x[1] for x in geometry]"
   ]
  },
  {
   "cell_type": "code",
   "execution_count": 8,
   "metadata": {},
   "outputs": [],
   "source": [
    "def getPolyCoords(geometry, coord_type):\n",
    "    \"\"\" Extract a list of latitudes or longitudes from a Polygon shape.\n",
    "    \n",
    "    Arguments:\n",
    "    ----------\n",
    "    geometry: shapely.geometry.Polygon or Polygon-like dict\n",
    "        Definition of a polygon by its coordinates.\n",
    "    coord_type: string\n",
    "        \"x\" for latitude.\n",
    "        \"y\" for longitude.\n",
    "        \n",
    "    Returns:\n",
    "    --------\n",
    "    coords: list of floats\n",
    "        List of either latitudes or longitudes extracted from the Polygon.\n",
    "    \"\"\"\n",
    "    ext = geometry['coordinates'][0]\n",
    "    return getXYCoords(ext, coord_type)"
   ]
  },
  {
   "cell_type": "code",
   "execution_count": 9,
   "metadata": {},
   "outputs": [],
   "source": [
    "def multiGeomHandler(multi_geometry, coord_type):\n",
    "    \"\"\" Function for handling MultiPolygon.\n",
    "    \n",
    "    Bokeh seems to handle multi-geometries since October 30, but no documentation on this matter could be found.\n",
    "    We use only the polygon of the multi-geometry with the most entries, which is enough for us, as we do not \n",
    "    deal with archipelagos.\n",
    "    \n",
    "    Arguments:\n",
    "    ----------\n",
    "    multi_geometry: shapely.geometry.MultiPolygon or MultiPolygon-like dict\n",
    "        Definition of a multi-polygon by its coordinates.\n",
    "    coord_type: string\n",
    "        \"x\" for latitude.\n",
    "        \"y\" for longitude.\n",
    "        \n",
    "    Returns:\n",
    "    --------\n",
    "    coords: list of floats\n",
    "        List of either latitudes or longitudes extracted from the MultiPolygon.\n",
    "    \"\"\"\n",
    "\n",
    "    for i, part in enumerate(multi_geometry[\"coordinates\"]):\n",
    "        # On the first part of the Multi-geometry initialize the coord_array (np.array)\n",
    "        if i == 0:\n",
    "            coord_arrays = getXYCoords(part[0], coord_type)\n",
    "            max_length = len(part[0])\n",
    "        else:\n",
    "            if len(part[0]) > max_length:\n",
    "                max_length = len(part[0])\n",
    "                coord_arrays = getXYCoords(part[0], coord_type)\n",
    "    # Return the coordinates\n",
    "    return coord_arrays"
   ]
  },
  {
   "cell_type": "code",
   "execution_count": 10,
   "metadata": {},
   "outputs": [],
   "source": [
    "def getCoords(row, geom_col, coord_type):\n",
    "    \"\"\" Returns coordinates ('x' or 'y') of a geometry Polygon or a multi-geometry MultiPolygon as a list.\n",
    "    \n",
    "    Arguments:\n",
    "    ----------\n",
    "    row: dictionary\n",
    "        Feature containing the geometry\n",
    "    geom_col: string\n",
    "        Name of the entry of `row` that contains the geometry\n",
    "    coord_type: string\n",
    "        \"x\" for latitude.\n",
    "        \"y\" for longitude.\n",
    "    \n",
    "    Returns:\n",
    "    --------\n",
    "    coords: list of floats\n",
    "        List of either latitudes or longitudes extracted from the MultiPolygon.\n",
    "    \"\"\"\n",
    "    # Get geometry\n",
    "    geom = row[geom_col]\n",
    "\n",
    "    # Check the geometry type\n",
    "    gtype = geom[\"type\"]\n",
    "\n",
    "    if gtype == \"Polygon\":\n",
    "        return list( getPolyCoords(geom, coord_type) )\n",
    "\n",
    "    # Multi geometries\n",
    "    # ----------------\n",
    "    else:\n",
    "        return list( multiGeomHandler(geom, coord_type) )"
   ]
  },
  {
   "cell_type": "code",
   "execution_count": 47,
   "metadata": {},
   "outputs": [],
   "source": [
    "def create_args_for_maps(df, area_name, column_name):\n",
    "    \"\"\" Create the arguments for the interactive maps for one type of area\n",
    "    \n",
    "    Arguments:\n",
    "    ----------\n",
    "    area_name: string\n",
    "        Full name of the area type\n",
    "    column_name: string\n",
    "        Name of the column encoding the area\n",
    "        \n",
    "    Returns:\n",
    "    --------\n",
    "    arguments: dictionary\n",
    "        Dictionary to use as datasource in the maps.\n",
    "    \"\"\"\n",
    "    if area_name == 'cp':\n",
    "        geojson_file_name = \"../../code_postaux/codes_postaux_region.shp\"\n",
    "        id_col = 'ID'\n",
    "        cols = [id_col, 'geometry']\n",
    "    elif area_name == 'dep':\n",
    "        geojson_file_name = \"../../france-geojson/departements-version-simplifiee.geojson\"\n",
    "        id_col = 'code'\n",
    "        cols = [id_col, 'geometry', 'nom']\n",
    "    # create dataframe\n",
    "    data = gpd.read_file(geojson_file_name, encoding='utf-8')[cols]\n",
    "    joined_df = data.merge(df, left_on=id_col, right_on=column_name, how=\"left\")\n",
    "    joined_df.drop(columns={\"geometry\", id_col}, inplace=True)\n",
    "    \n",
    "    # get x and y for contour of the areas\n",
    "    if area_name == 'cp':\n",
    "        borders = eval(data.to_json())\n",
    "    elif area_name == 'dep':\n",
    "        borders = json.load(open(geojson_file_name))\n",
    "    if 'features' in borders:\n",
    "        areas_x = [getCoords(i, geom_col=\"geometry\", coord_type=\"x\") for i in borders['features']]\n",
    "        areas_y = [getCoords(i, geom_col=\"geometry\", coord_type=\"y\") for i in borders['features']]\n",
    "    else:\n",
    "        areas_x = [getCoords(borders, geom_col='geometry', coord_type=\"x\")]\n",
    "        areas_y = [getCoords(borders, geom_col='geometry', coord_type=\"y\")]\n",
    "    \n",
    "    # create dict for arguments\n",
    "    arguments = {\"x\": areas_x, \"y\": areas_y,}\n",
    "    for column in joined_df.columns:\n",
    "         arguments[\"{}\".format(column)] = joined_df[column].values\n",
    "    return arguments"
   ]
  },
  {
   "cell_type": "code",
   "execution_count": 12,
   "metadata": {},
   "outputs": [],
   "source": [
    "def color_helpers(low, high, title, palette):\n",
    "    \"\"\"Define the color-related items for a map\n",
    "    \n",
    "    Arguments:\n",
    "    ----------\n",
    "    low: float\n",
    "        Lower bound for the values to encode with the colors\n",
    "    high: float\n",
    "        Upper bound for the values to encode with the colors\n",
    "    title: string\n",
    "        Title for the color bar\n",
    "    \n",
    "    Returns:\n",
    "    --------\n",
    "    color_mapper: bokeh.plotting.LinearColorMapper\n",
    "        Mapper value -> color for the map\n",
    "    color_bar_plot: bokeh.plotting.Figure\n",
    "        Block displaying a color bar with a title\n",
    "    \"\"\"\n",
    "    color_mapper = LinearColorMapper(palette=list(reversed(palette)), low=low, high=high)\n",
    "    color_bar = ColorBar(color_mapper=color_mapper, major_label_text_align='left',ticker=BasicTicker(), location=(0, 0))\n",
    "    color_bar_plot = figure(title=title, title_location=\"right\",\n",
    "                        toolbar_location=None, min_border=0, width=130, height=450,\n",
    "                        outline_line_color=None)\n",
    "\n",
    "    color_bar_plot.add_layout(color_bar, 'left')\n",
    "    color_bar_plot.title.align=\"center\"\n",
    "    color_bar_plot.title.text_font_size = '12pt'\n",
    "    return color_mapper, color_bar_plot"
   ]
  },
  {
   "cell_type": "code",
   "execution_count": 13,
   "metadata": {},
   "outputs": [],
   "source": [
    "def color_helpers_cat(categories, palette):\n",
    "    color_mapper = factor_cmap('Réponses', palette=palette, factors=categories)['transform']\n",
    "    return color_mapper, None "
   ]
  },
  {
   "cell_type": "code",
   "execution_count": 14,
   "metadata": {},
   "outputs": [],
   "source": [
    "def create_map_figure(source, color_mapper, value_column, value_name, height=450, width=450):\n",
    "    \"\"\"Create the figure for a map\n",
    "    \n",
    "    Arguments:\n",
    "    ----------\n",
    "    source: bokeh.models.ColumnDataSource\n",
    "        Datasource for the map\n",
    "    color_mapper: bokeh.plotting.LinearColorMapper\n",
    "        Mapper value -> color for the map\n",
    "    value_name: string\n",
    "        Display name of the value to be displayed\n",
    "        \n",
    "    Returns:\n",
    "    --------\n",
    "    p: bokeh.plotting.Figure\n",
    "        Figure containing a map\n",
    "    \"\"\"\n",
    "    TOOLS = 'hover,wheel_zoom,box_zoom,reset,pan'#\"pan,hover\"\n",
    "    p = figure(\n",
    "        #title=value_name,\n",
    "        tools=TOOLS,\n",
    "        #toolbar_location=None,\n",
    "        x_axis_location=None, y_axis_location=None,\n",
    "        width=width, height=height\n",
    "    )\n",
    "    p.grid.grid_line_color = None\n",
    "    p.patches('x', 'y', source=source,\n",
    "              #fill_color='values',\n",
    "              fill_color={'field': value_column, 'transform': color_mapper},\n",
    "              fill_alpha=0.8, line_color=\"black\", line_width=0.3)\n",
    "    return p"
   ]
  },
  {
   "cell_type": "code",
   "execution_count": 15,
   "metadata": {},
   "outputs": [],
   "source": [
    "def define_hover(p, initial_values):\n",
    "    \"\"\" Define the hover behavior for a map\n",
    "    \n",
    "    Arguments:\n",
    "    ----------\n",
    "    p: bokeh.plotting.Figure\n",
    "        Figure containing a map\n",
    "    area_name: string\n",
    "        Name of the subdivision of the French territory\n",
    "    display_name: string\n",
    "        Name of the quantity to display in the hover\n",
    "    \n",
    "    Returns:\n",
    "    --------\n",
    "    hover: bokeh.models.HoverTool\n",
    "        Hover item.\n",
    "    \"\"\"\n",
    "    hover = p.select_one(HoverTool)\n",
    "    hover.point_policy = \"follow_mouse\"\n",
    "    tooltips = [(name, '@%s{1}' % cols) \n",
    "                for name, cols in zip(initial_values['hover_names'], \n",
    "                                      initial_values['hover_columns'])]\n",
    "    if initial_values['zone_code'] == 'cp':\n",
    "        zone_code = \"@CP\"\n",
    "    elif initial_values['zone_code'] == 'dep':\n",
    "        zone_code = \"@nom\"\n",
    "    hover.tooltips = [(initial_values['zone_name'], zone_code)] + tooltips\n",
    "    return hover"
   ]
  },
  {
   "cell_type": "code",
   "execution_count": 16,
   "metadata": {},
   "outputs": [],
   "source": [
    "def create_map(initial_source, initial_values, height, width):\n",
    "    \"\"\" Create a map\n",
    "    \n",
    "    Arguments:\n",
    "    ----------\n",
    "    initial_source: dictionary of ColumnDataSource\n",
    "        Available sources for the map\n",
    "    initial_values: dictionary\n",
    "        Initial values for the map\n",
    "    height, width: int\n",
    "        Size of the map\n",
    "    \n",
    "    Returns:\n",
    "    --------\n",
    "    map_figure: bokeh.plotting.Figure\n",
    "        Figure containing a map\n",
    "    hover: bokeh.models.HoverTool\n",
    "        Hover item.\n",
    "    cmap: bokeh.plotting.LinearColorMapper\n",
    "        Mapper value -> color for the map\n",
    "    color_bar_plot: bokeh.plotting.Figure\n",
    "        Block displaying a color bar with a title\n",
    "    \"\"\"\n",
    "    \n",
    "    # color handling\n",
    "    if 'categories' in initial_values:\n",
    "        cmap, color_bar_plot = color_helpers_cat(\n",
    "            initial_values['categories'], initial_values['palette']\n",
    "        )\n",
    "    else:\n",
    "        cmap, color_bar_plot = color_helpers(\n",
    "            initial_values['low'], initial_values['high'], \n",
    "            initial_values['colorbar_title'], initial_values['palette']\n",
    "        )\n",
    "    map_figure = create_map_figure(initial_source, cmap, initial_values['value_column'],\n",
    "                                   initial_values['value_name'], height, width)\n",
    "    # hover behavior\n",
    "    hover = define_hover(map_figure, initial_values)\n",
    "    \n",
    "    return map_figure, hover, cmap, color_bar_plot"
   ]
  },
  {
   "cell_type": "code",
   "execution_count": 71,
   "metadata": {},
   "outputs": [],
   "source": [
    "def safe_postal_code(x):\n",
    "    try:\n",
    "        return \"{:05d}\".format(int(x))\n",
    "    except:\n",
    "        try:\n",
    "            return \"{:05d}\".format(int(float(x)))\n",
    "        except:\n",
    "            return np.nan"
   ]
  },
  {
   "cell_type": "markdown",
   "metadata": {
    "heading_collapsed": true
   },
   "source": [
    "# Working on the raw dataset"
   ]
  },
  {
   "cell_type": "markdown",
   "metadata": {
    "hidden": true
   },
   "source": [
    "Import the small dataset of Brad"
   ]
  },
  {
   "cell_type": "code",
   "execution_count": 66,
   "metadata": {
    "hidden": true
   },
   "outputs": [
    {
     "name": "stderr",
     "output_type": "stream",
     "text": [
      "/home/myriam/DataScience/grand-debat/.venv/lib/python3.7/site-packages/IPython/core/interactiveshell.py:3058: DtypeWarning: Columns (13) have mixed types. Specify dtype option on import or set low_memory=False.\n",
      "  interactivity=interactivity, compiler=compiler, result=result)\n"
     ]
    },
    {
     "data": {
      "text/html": [
       "<div>\n",
       "<style scoped>\n",
       "    .dataframe tbody tr th:only-of-type {\n",
       "        vertical-align: middle;\n",
       "    }\n",
       "\n",
       "    .dataframe tbody tr th {\n",
       "        vertical-align: top;\n",
       "    }\n",
       "\n",
       "    .dataframe thead th {\n",
       "        text-align: right;\n",
       "    }\n",
       "</style>\n",
       "<table border=\"1\" class=\"dataframe\">\n",
       "  <thead>\n",
       "    <tr style=\"text-align: right;\">\n",
       "      <th></th>\n",
       "      <th>id</th>\n",
       "      <th>date_creat</th>\n",
       "      <th>nature</th>\n",
       "      <th>groupement</th>\n",
       "      <th>titre</th>\n",
       "      <th>titre_court</th>\n",
       "      <th>objet</th>\n",
       "      <th>objet_social1</th>\n",
       "      <th>adrg_declarant</th>\n",
       "      <th>adrg_complemid</th>\n",
       "      <th>adrg_complemgeo</th>\n",
       "      <th>adrg_libvoie</th>\n",
       "      <th>adrg_distrib</th>\n",
       "      <th>adrg_codepostal</th>\n",
       "      <th>adrg_achemine</th>\n",
       "      <th>adrg_pays</th>\n",
       "      <th>objet_social1_desc</th>\n",
       "    </tr>\n",
       "  </thead>\n",
       "  <tbody>\n",
       "    <tr>\n",
       "      <th>0</th>\n",
       "      <td>W012000002</td>\n",
       "      <td>1983-10-10</td>\n",
       "      <td>D</td>\n",
       "      <td>S</td>\n",
       "      <td>ARIADNE</td>\n",
       "      <td>ARIADNE</td>\n",
       "      <td>Favoriser le développement d'une compagnie thé...</td>\n",
       "      <td>6070</td>\n",
       "      <td>NaN</td>\n",
       "      <td>NaN</td>\n",
       "      <td>NaN</td>\n",
       "      <td>39 rue Courteline</td>\n",
       "      <td>NaN</td>\n",
       "      <td>69100</td>\n",
       "      <td>villeurbanne</td>\n",
       "      <td>FRANCE</td>\n",
       "      <td>théâtre, marionnettes, cirque, spectacles de v...</td>\n",
       "    </tr>\n",
       "    <tr>\n",
       "      <th>1</th>\n",
       "      <td>W012000005</td>\n",
       "      <td>2003-09-01</td>\n",
       "      <td>D</td>\n",
       "      <td>S</td>\n",
       "      <td>UNITE FRANCAISE D'INTERVENTION EN CATASTROPHE ...</td>\n",
       "      <td>UNITE FRANCAISE D'INTERVENTION EN ...</td>\n",
       "      <td>Intervenir lors de catastrophes naturelles sur...</td>\n",
       "      <td>20000</td>\n",
       "      <td>NaN</td>\n",
       "      <td>NaN</td>\n",
       "      <td>NaN</td>\n",
       "      <td>18 rue Ampère</td>\n",
       "      <td>NaN</td>\n",
       "      <td>69270</td>\n",
       "      <td>FONTAINE SUR SAONE</td>\n",
       "      <td>FRANCE</td>\n",
       "      <td>associations caritatives, humanitaires, aide a...</td>\n",
       "    </tr>\n",
       "    <tr>\n",
       "      <th>2</th>\n",
       "      <td>W033002617</td>\n",
       "      <td>2008-05-19</td>\n",
       "      <td>D</td>\n",
       "      <td>S</td>\n",
       "      <td>ASSOCIATION MAYOTTE FOOTBALL CLUB DE BELLERIVE...</td>\n",
       "      <td>MAYOTTE FOOTBALL CLUB BSA</td>\n",
       "      <td>pratiquer et développer le football; organisat...</td>\n",
       "      <td>11075</td>\n",
       "      <td>NaN</td>\n",
       "      <td>NaN</td>\n",
       "      <td>NaN</td>\n",
       "      <td>8  RUE EMMANUEL CHABRIER</td>\n",
       "      <td>NaN</td>\n",
       "      <td>03700</td>\n",
       "      <td>BELLERIVE-SUR-ALLIER</td>\n",
       "      <td>FRANCE</td>\n",
       "      <td>Football (football, futsal)</td>\n",
       "    </tr>\n",
       "    <tr>\n",
       "      <th>3</th>\n",
       "      <td>W423003687</td>\n",
       "      <td>2008-07-02</td>\n",
       "      <td>D</td>\n",
       "      <td>S</td>\n",
       "      <td>SOUL ALMIGHTY</td>\n",
       "      <td>SOUL ALMIGHTY</td>\n",
       "      <td>promouvoir la musique reggae tout en participa...</td>\n",
       "      <td>6030</td>\n",
       "      <td>NaN</td>\n",
       "      <td>NaN</td>\n",
       "      <td>NaN</td>\n",
       "      <td>36 rue de la Roche du Geai</td>\n",
       "      <td>NaN</td>\n",
       "      <td>42000</td>\n",
       "      <td>Saint-Étienne</td>\n",
       "      <td>FRANCE</td>\n",
       "      <td>chant choral, musique</td>\n",
       "    </tr>\n",
       "    <tr>\n",
       "      <th>4</th>\n",
       "      <td>W441001349</td>\n",
       "      <td>2012-03-29</td>\n",
       "      <td>D</td>\n",
       "      <td>S</td>\n",
       "      <td>TUMBA MUSIC</td>\n",
       "      <td>TUMBA MUSIC</td>\n",
       "      <td>développer des actions culturelles de soutien ...</td>\n",
       "      <td>6030</td>\n",
       "      <td>NaN</td>\n",
       "      <td>NaN</td>\n",
       "      <td>NaN</td>\n",
       "      <td>6  rue du Boispéan</td>\n",
       "      <td>NaN</td>\n",
       "      <td>44110</td>\n",
       "      <td>Châteaubriant</td>\n",
       "      <td>FRANCE</td>\n",
       "      <td>chant choral, musique</td>\n",
       "    </tr>\n",
       "  </tbody>\n",
       "</table>\n",
       "</div>"
      ],
      "text/plain": [
       "           id  date_creat nature groupement  \\\n",
       "0  W012000002  1983-10-10      D          S   \n",
       "1  W012000005  2003-09-01      D          S   \n",
       "2  W033002617  2008-05-19      D          S   \n",
       "3  W423003687  2008-07-02      D          S   \n",
       "4  W441001349  2012-03-29      D          S   \n",
       "\n",
       "                                               titre  \\\n",
       "0                                            ARIADNE   \n",
       "1  UNITE FRANCAISE D'INTERVENTION EN CATASTROPHE ...   \n",
       "2  ASSOCIATION MAYOTTE FOOTBALL CLUB DE BELLERIVE...   \n",
       "3                                      SOUL ALMIGHTY   \n",
       "4                                        TUMBA MUSIC   \n",
       "\n",
       "                             titre_court  \\\n",
       "0                                ARIADNE   \n",
       "1  UNITE FRANCAISE D'INTERVENTION EN ...   \n",
       "2              MAYOTTE FOOTBALL CLUB BSA   \n",
       "3                          SOUL ALMIGHTY   \n",
       "4                            TUMBA MUSIC   \n",
       "\n",
       "                                               objet  objet_social1  \\\n",
       "0  Favoriser le développement d'une compagnie thé...           6070   \n",
       "1  Intervenir lors de catastrophes naturelles sur...          20000   \n",
       "2  pratiquer et développer le football; organisat...          11075   \n",
       "3  promouvoir la musique reggae tout en participa...           6030   \n",
       "4  développer des actions culturelles de soutien ...           6030   \n",
       "\n",
       "  adrg_declarant adrg_complemid adrg_complemgeo                adrg_libvoie  \\\n",
       "0            NaN            NaN             NaN           39 rue Courteline   \n",
       "1            NaN            NaN             NaN               18 rue Ampère   \n",
       "2            NaN            NaN             NaN    8  RUE EMMANUEL CHABRIER   \n",
       "3            NaN            NaN             NaN  36 rue de la Roche du Geai   \n",
       "4            NaN            NaN             NaN          6  rue du Boispéan   \n",
       "\n",
       "  adrg_distrib adrg_codepostal         adrg_achemine adrg_pays  \\\n",
       "0          NaN           69100          villeurbanne    FRANCE   \n",
       "1          NaN           69270    FONTAINE SUR SAONE    FRANCE   \n",
       "2          NaN           03700  BELLERIVE-SUR-ALLIER    FRANCE   \n",
       "3          NaN           42000         Saint-Étienne    FRANCE   \n",
       "4          NaN           44110         Châteaubriant    FRANCE   \n",
       "\n",
       "                                  objet_social1_desc  \n",
       "0  théâtre, marionnettes, cirque, spectacles de v...  \n",
       "1  associations caritatives, humanitaires, aide a...  \n",
       "2                       Football (football, futsal)   \n",
       "3                             chant choral, musique   \n",
       "4                             chant choral, musique   "
      ]
     },
     "execution_count": 66,
     "metadata": {},
     "output_type": "execute_result"
    }
   ],
   "source": [
    "df_raw = pd.read_csv('../data/raw/clean_data_small.csv')\n",
    "df = df_raw.copy()\n",
    "df.head()"
   ]
  },
  {
   "cell_type": "markdown",
   "metadata": {
    "hidden": true
   },
   "source": [
    "Import the postal code files with `départements` and shape of the areas"
   ]
  },
  {
   "cell_type": "code",
   "execution_count": 68,
   "metadata": {
    "hidden": true
   },
   "outputs": [],
   "source": [
    "cp_df = gpd.read_file(\"../../code_postaux/codes_postaux_region.shp\")"
   ]
  },
  {
   "cell_type": "markdown",
   "metadata": {
    "hidden": true
   },
   "source": [
    "Set the correct `départements` of Corsica (`2A` and `2B`)"
   ]
  },
  {
   "cell_type": "code",
   "execution_count": 69,
   "metadata": {
    "hidden": true
   },
   "outputs": [],
   "source": [
    "cp_2A = cp_df[(cp_df['ID'] >= '20000') & (cp_df['ID'] < '20200')]\n",
    "cp_df.loc[cp_2A.index, 'DEP'] = '2A'\n",
    "cp_2B = cp_df[(cp_df['ID'] >= '20200') & (cp_df['ID'] < '21000')]\n",
    "cp_df.loc[cp_2B.index, 'DEP'] = '2B'"
   ]
  },
  {
   "cell_type": "code",
   "execution_count": 70,
   "metadata": {
    "hidden": true
   },
   "outputs": [
    {
     "data": {
      "text/html": [
       "<div>\n",
       "<style scoped>\n",
       "    .dataframe tbody tr th:only-of-type {\n",
       "        vertical-align: middle;\n",
       "    }\n",
       "\n",
       "    .dataframe tbody tr th {\n",
       "        vertical-align: top;\n",
       "    }\n",
       "\n",
       "    .dataframe thead th {\n",
       "        text-align: right;\n",
       "    }\n",
       "</style>\n",
       "<table border=\"1\" class=\"dataframe\">\n",
       "  <thead>\n",
       "    <tr style=\"text-align: right;\">\n",
       "      <th></th>\n",
       "      <th>ID</th>\n",
       "      <th>LIB</th>\n",
       "      <th>DEP</th>\n",
       "      <th>SURF</th>\n",
       "      <th>POP2010</th>\n",
       "      <th>MEN2010</th>\n",
       "      <th>geometry</th>\n",
       "    </tr>\n",
       "  </thead>\n",
       "  <tbody>\n",
       "    <tr>\n",
       "      <th>0</th>\n",
       "      <td>26140</td>\n",
       "      <td>Saint-Rambert-d'Albon</td>\n",
       "      <td>26</td>\n",
       "      <td>82.710226</td>\n",
       "      <td>12812.0</td>\n",
       "      <td>5148.08200</td>\n",
       "      <td>POLYGON ((849939.96 6461152.034999999, 848364....</td>\n",
       "    </tr>\n",
       "    <tr>\n",
       "      <th>1</th>\n",
       "      <td>26150</td>\n",
       "      <td>Die</td>\n",
       "      <td>26</td>\n",
       "      <td>315.349961</td>\n",
       "      <td>6301.0</td>\n",
       "      <td>3011.68790</td>\n",
       "      <td>POLYGON ((892450.0499999999 6403419.96, 891173...</td>\n",
       "    </tr>\n",
       "    <tr>\n",
       "      <th>2</th>\n",
       "      <td>26160</td>\n",
       "      <td>La  Bégude-de-Mazenc</td>\n",
       "      <td>26</td>\n",
       "      <td>181.940199</td>\n",
       "      <td>7285.0</td>\n",
       "      <td>3040.83720</td>\n",
       "      <td>POLYGON ((862423.98 6386618.039999999, 861627....</td>\n",
       "    </tr>\n",
       "    <tr>\n",
       "      <th>3</th>\n",
       "      <td>26300</td>\n",
       "      <td>Bourg-de-Péage</td>\n",
       "      <td>26</td>\n",
       "      <td>236.697761</td>\n",
       "      <td>28064.0</td>\n",
       "      <td>11312.93600</td>\n",
       "      <td>POLYGON ((873008.0099999999 6428766.989999999,...</td>\n",
       "    </tr>\n",
       "    <tr>\n",
       "      <th>4</th>\n",
       "      <td>26170</td>\n",
       "      <td>Buis-les-Baronnies</td>\n",
       "      <td>26</td>\n",
       "      <td>290.688573</td>\n",
       "      <td>5512.0</td>\n",
       "      <td>2543.62744</td>\n",
       "      <td>POLYGON ((899364.96 6353489.024999999, 897448....</td>\n",
       "    </tr>\n",
       "  </tbody>\n",
       "</table>\n",
       "</div>"
      ],
      "text/plain": [
       "      ID                    LIB DEP        SURF  POP2010      MEN2010  \\\n",
       "0  26140  Saint-Rambert-d'Albon  26   82.710226  12812.0   5148.08200   \n",
       "1  26150                    Die  26  315.349961   6301.0   3011.68790   \n",
       "2  26160   La  Bégude-de-Mazenc  26  181.940199   7285.0   3040.83720   \n",
       "3  26300         Bourg-de-Péage  26  236.697761  28064.0  11312.93600   \n",
       "4  26170     Buis-les-Baronnies  26  290.688573   5512.0   2543.62744   \n",
       "\n",
       "                                            geometry  \n",
       "0  POLYGON ((849939.96 6461152.034999999, 848364....  \n",
       "1  POLYGON ((892450.0499999999 6403419.96, 891173...  \n",
       "2  POLYGON ((862423.98 6386618.039999999, 861627....  \n",
       "3  POLYGON ((873008.0099999999 6428766.989999999,...  \n",
       "4  POLYGON ((899364.96 6353489.024999999, 897448....  "
      ]
     },
     "execution_count": 70,
     "metadata": {},
     "output_type": "execute_result"
    }
   ],
   "source": [
    "cp_df.head()"
   ]
  },
  {
   "cell_type": "code",
   "execution_count": 72,
   "metadata": {
    "hidden": true
   },
   "outputs": [],
   "source": [
    "df['adrg_codepostal'] = df['adrg_codepostal'].apply(safe_postal_code)"
   ]
  },
  {
   "cell_type": "markdown",
   "metadata": {
    "hidden": true
   },
   "source": [
    "Merge the RNA dataframe with the postal code one"
   ]
  },
  {
   "cell_type": "code",
   "execution_count": 75,
   "metadata": {
    "hidden": true
   },
   "outputs": [],
   "source": [
    "df2 = df.merge(cp_df, right_on='ID', left_on='adrg_codepostal', how='left')"
   ]
  },
  {
   "cell_type": "markdown",
   "metadata": {
    "hidden": true
   },
   "source": [
    "Save number of associations per postal code"
   ]
  },
  {
   "cell_type": "code",
   "execution_count": 127,
   "metadata": {
    "hidden": true
   },
   "outputs": [
    {
     "data": {
      "text/plain": [
       "CP\n",
       "01000    1886\n",
       "01090     246\n",
       "01100     472\n",
       "01110     219\n",
       "01120     440\n",
       "Name: count, dtype: int64"
      ]
     },
     "execution_count": 127,
     "metadata": {},
     "output_type": "execute_result"
    }
   ],
   "source": [
    "df3 = df2.dropna(subset=['ID']).groupby('ID').count()['id']\n",
    "df3.name = 'count'\n",
    "df3.index.name = 'CP'\n",
    "df3.to_csv('../data/interim/20191105_nb_asso_per_cp.csv', header=True)\n",
    "df3.head()"
   ]
  },
  {
   "cell_type": "markdown",
   "metadata": {
    "hidden": true
   },
   "source": [
    "Save number of associations per departements"
   ]
  },
  {
   "cell_type": "code",
   "execution_count": 83,
   "metadata": {
    "hidden": true
   },
   "outputs": [
    {
     "data": {
      "text/html": [
       "<div>\n",
       "<style scoped>\n",
       "    .dataframe tbody tr th:only-of-type {\n",
       "        vertical-align: middle;\n",
       "    }\n",
       "\n",
       "    .dataframe tbody tr th {\n",
       "        vertical-align: top;\n",
       "    }\n",
       "\n",
       "    .dataframe thead th {\n",
       "        text-align: right;\n",
       "    }\n",
       "</style>\n",
       "<table border=\"1\" class=\"dataframe\">\n",
       "  <thead>\n",
       "    <tr style=\"text-align: right;\">\n",
       "      <th></th>\n",
       "      <th>count</th>\n",
       "    </tr>\n",
       "    <tr>\n",
       "      <th>DEP</th>\n",
       "      <th></th>\n",
       "    </tr>\n",
       "  </thead>\n",
       "  <tbody>\n",
       "    <tr>\n",
       "      <th>01</th>\n",
       "      <td>16105</td>\n",
       "    </tr>\n",
       "    <tr>\n",
       "      <th>02</th>\n",
       "      <td>9266</td>\n",
       "    </tr>\n",
       "    <tr>\n",
       "      <th>03</th>\n",
       "      <td>9638</td>\n",
       "    </tr>\n",
       "    <tr>\n",
       "      <th>04</th>\n",
       "      <td>5987</td>\n",
       "    </tr>\n",
       "    <tr>\n",
       "      <th>05</th>\n",
       "      <td>5480</td>\n",
       "    </tr>\n",
       "  </tbody>\n",
       "</table>\n",
       "</div>"
      ],
      "text/plain": [
       "     count\n",
       "DEP       \n",
       "01   16105\n",
       "02    9266\n",
       "03    9638\n",
       "04    5987\n",
       "05    5480"
      ]
     },
     "execution_count": 83,
     "metadata": {},
     "output_type": "execute_result"
    }
   ],
   "source": [
    "df4 = df3.reset_index().merge(cp_df, left_on='CP', right_on='ID').drop('ID', axis=1)\n",
    "df5 = df4[['count', 'DEP']].groupby('DEP').sum()\n",
    "df5.to_csv('../data/interim/20191105_nb_asso_per_dep.csv')\n",
    "df5.head()"
   ]
  },
  {
   "cell_type": "markdown",
   "metadata": {
    "hidden": true
   },
   "source": [
    "Save the number of associations per departements for 10000hab"
   ]
  },
  {
   "cell_type": "code",
   "execution_count": 131,
   "metadata": {
    "hidden": true
   },
   "outputs": [
    {
     "data": {
      "text/html": [
       "<div>\n",
       "<style scoped>\n",
       "    .dataframe tbody tr th:only-of-type {\n",
       "        vertical-align: middle;\n",
       "    }\n",
       "\n",
       "    .dataframe tbody tr th {\n",
       "        vertical-align: top;\n",
       "    }\n",
       "\n",
       "    .dataframe thead th {\n",
       "        text-align: right;\n",
       "    }\n",
       "</style>\n",
       "<table border=\"1\" class=\"dataframe\">\n",
       "  <thead>\n",
       "    <tr style=\"text-align: right;\">\n",
       "      <th></th>\n",
       "      <th>DEP</th>\n",
       "      <th>count</th>\n",
       "    </tr>\n",
       "  </thead>\n",
       "  <tbody>\n",
       "    <tr>\n",
       "      <th>0</th>\n",
       "      <td>01</td>\n",
       "      <td>269</td>\n",
       "    </tr>\n",
       "    <tr>\n",
       "      <th>1</th>\n",
       "      <td>02</td>\n",
       "      <td>171</td>\n",
       "    </tr>\n",
       "    <tr>\n",
       "      <th>2</th>\n",
       "      <td>03</td>\n",
       "      <td>281</td>\n",
       "    </tr>\n",
       "    <tr>\n",
       "      <th>3</th>\n",
       "      <td>04</td>\n",
       "      <td>377</td>\n",
       "    </tr>\n",
       "    <tr>\n",
       "      <th>4</th>\n",
       "      <td>05</td>\n",
       "      <td>397</td>\n",
       "    </tr>\n",
       "  </tbody>\n",
       "</table>\n",
       "</div>"
      ],
      "text/plain": [
       "  DEP  count\n",
       "0  01    269\n",
       "1  02    171\n",
       "2  03    281\n",
       "3  04    377\n",
       "4  05    397"
      ]
     },
     "execution_count": 131,
     "metadata": {},
     "output_type": "execute_result"
    }
   ],
   "source": [
    "df6 = df4[['DEP', 'POP2010', 'count']].groupby('DEP').sum().reset_index()\n",
    "df6['count'] = (df6['count'] / df6['POP2010'] * 10000).apply(lambda x: round(x))\n",
    "df6 = df6.drop('POP2010', axis=1)\n",
    "df6.to_csv('../data/interim/20191105_nb_asso_per_dep_per10000.csv', index=False)\n",
    "df6.head()"
   ]
  },
  {
   "cell_type": "markdown",
   "metadata": {
    "hidden": true
   },
   "source": [
    "Save the number of associations per postal code for 10000hab"
   ]
  },
  {
   "cell_type": "code",
   "execution_count": 150,
   "metadata": {
    "hidden": true
   },
   "outputs": [
    {
     "data": {
      "text/html": [
       "<div>\n",
       "<style scoped>\n",
       "    .dataframe tbody tr th:only-of-type {\n",
       "        vertical-align: middle;\n",
       "    }\n",
       "\n",
       "    .dataframe tbody tr th {\n",
       "        vertical-align: top;\n",
       "    }\n",
       "\n",
       "    .dataframe thead th {\n",
       "        text-align: right;\n",
       "    }\n",
       "</style>\n",
       "<table border=\"1\" class=\"dataframe\">\n",
       "  <thead>\n",
       "    <tr style=\"text-align: right;\">\n",
       "      <th></th>\n",
       "      <th>CP</th>\n",
       "      <th>count</th>\n",
       "    </tr>\n",
       "  </thead>\n",
       "  <tbody>\n",
       "    <tr>\n",
       "      <th>0</th>\n",
       "      <td>01000</td>\n",
       "      <td>415</td>\n",
       "    </tr>\n",
       "    <tr>\n",
       "      <th>1</th>\n",
       "      <td>01090</td>\n",
       "      <td>285</td>\n",
       "    </tr>\n",
       "    <tr>\n",
       "      <th>2</th>\n",
       "      <td>01100</td>\n",
       "      <td>140</td>\n",
       "    </tr>\n",
       "    <tr>\n",
       "      <th>3</th>\n",
       "      <td>01110</td>\n",
       "      <td>312</td>\n",
       "    </tr>\n",
       "    <tr>\n",
       "      <th>4</th>\n",
       "      <td>01120</td>\n",
       "      <td>246</td>\n",
       "    </tr>\n",
       "  </tbody>\n",
       "</table>\n",
       "</div>"
      ],
      "text/plain": [
       "      CP  count\n",
       "0  01000    415\n",
       "1  01090    285\n",
       "2  01100    140\n",
       "3  01110    312\n",
       "4  01120    246"
      ]
     },
     "execution_count": 150,
     "metadata": {},
     "output_type": "execute_result"
    }
   ],
   "source": [
    "df7 = df4[['CP', 'POP2010', 'count']].copy()\n",
    "df7 = df7[df7['POP2010'] > 0] # Two islands have a zero population\n",
    "df7['count'] = (df7['count'] / df7['POP2010'] * 10000).apply(lambda x: round(x))\n",
    "df7 = df7.drop('POP2010', axis=1)\n",
    "df7 = df7.drop(df7[df7['CP'] == '69125'].index) # Outlier\n",
    "df7 = df7.drop(df7[df7['CP'] == '72000'].index) # Outlier\n",
    "df7.to_csv('../data/interim/20191105_nb_asso_per_cp_per10000.csv', index=False)\n",
    "df7.head()"
   ]
  },
  {
   "cell_type": "markdown",
   "metadata": {
    "hidden": true
   },
   "source": [
    "Save the number of associations per postal code in Isère only"
   ]
  },
  {
   "cell_type": "code",
   "execution_count": 111,
   "metadata": {
    "hidden": true
   },
   "outputs": [
    {
     "data": {
      "text/plain": [
       "CP\n",
       "01000    1886\n",
       "01090     246\n",
       "01100     472\n",
       "01110     219\n",
       "01120     440\n",
       "Name: count, dtype: int64"
      ]
     },
     "execution_count": 111,
     "metadata": {},
     "output_type": "execute_result"
    }
   ],
   "source": [
    "df3.head()"
   ]
  },
  {
   "cell_type": "code",
   "execution_count": 122,
   "metadata": {
    "hidden": true
   },
   "outputs": [],
   "source": [
    "df8 = df3.reset_index()\n",
    "df8 = df8[(df8['CP'] >= '38000') & (df8['CP'] < '39000')]\n",
    "df8 = df8.set_index('CP')\n",
    "df8.to_csv('../data/interim/20191105_nb_asso_per_cp_isere.csv', header=True)"
   ]
  },
  {
   "cell_type": "markdown",
   "metadata": {},
   "source": [
    "# Generating different maps"
   ]
  },
  {
   "cell_type": "markdown",
   "metadata": {},
   "source": [
    "Common settings"
   ]
  },
  {
   "cell_type": "code",
   "execution_count": 124,
   "metadata": {},
   "outputs": [],
   "source": [
    "size = 1000\n",
    "initial_values=dict(\n",
    "        value_name='count',\n",
    "        value_column='count',\n",
    "        colorbar_title='Number of associations',\n",
    "        hover_columns=['count'],\n",
    "        hover_names=['Count'],\n",
    "        palette=Blues[9]\n",
    "    )"
   ]
  },
  {
   "cell_type": "markdown",
   "metadata": {},
   "source": [
    "Map at the level of postal code"
   ]
  },
  {
   "cell_type": "code",
   "execution_count": 138,
   "metadata": {},
   "outputs": [
    {
     "name": "stderr",
     "output_type": "stream",
     "text": [
      "WARNING:bokeh.core.validation.check:W-1000 (MISSING_RENDERERS): Plot has no renderers: Figure(id='3622', ...)\n"
     ]
    },
    {
     "data": {
      "text/plain": [
       "'/home/myriam/DataScience/dataforgoodgrenoble/figures/20191105_nb_asso_per_cp.html'"
      ]
     },
     "execution_count": 138,
     "metadata": {},
     "output_type": "execute_result"
    }
   ],
   "source": [
    "filename = '20191105_nb_asso_per_cp'\n",
    "df_ = pd.read_csv('../data/interim/%s.csv' % filename, low_memory=False)\n",
    "df_['CP'] = df_['CP'].apply(lambda x: \"{:05d}\".format(x))\n",
    "initial_values['zone_name'] = 'Postal code'\n",
    "initial_values['zone_code'] = 'cp'\n",
    "initial_values['low'] = df_['count'].min()\n",
    "initial_values['high'] = df_['count'].max()\n",
    "initial_values['colorbar_title'] = 'Number of associations'\n",
    "args = create_args_for_maps(df_, 'cp', 'CP') #create_args_for_maps(df, area_name, column_name)\n",
    "datasources = ColumnDataSource(args)\n",
    "maps, hovers, cmaps, color_bar_plots  = create_map(\n",
    "    datasources, \n",
    "    initial_values,\n",
    "    size, size)\n",
    "output_file('../figures/%s.html' % filename)\n",
    "row_ = row(maps, color_bar_plots)\n",
    "save(row_)"
   ]
  },
  {
   "cell_type": "markdown",
   "metadata": {},
   "source": [
    "Map at the level of postal code, normalize by hab"
   ]
  },
  {
   "cell_type": "code",
   "execution_count": 151,
   "metadata": {},
   "outputs": [
    {
     "name": "stderr",
     "output_type": "stream",
     "text": [
      "WARNING:bokeh.core.validation.check:W-1000 (MISSING_RENDERERS): Plot has no renderers: Figure(id='4747', ...)\n"
     ]
    },
    {
     "data": {
      "text/plain": [
       "'/home/myriam/DataScience/dataforgoodgrenoble/figures/20191105_nb_asso_per_cp_per10000.html'"
      ]
     },
     "execution_count": 151,
     "metadata": {},
     "output_type": "execute_result"
    }
   ],
   "source": [
    "filename = '20191105_nb_asso_per_cp_per10000'\n",
    "df_ = pd.read_csv('../data/interim/%s.csv' % filename, low_memory=False)\n",
    "df_.columns = ['CP', 'count']\n",
    "df_['CP'] = df_['CP'].apply(lambda x: \"{:05d}\".format(x))\n",
    "initial_values['zone_name'] = 'Postal code'\n",
    "initial_values['zone_code'] = 'cp'\n",
    "initial_values['low'] = df_['count'].min()\n",
    "initial_values['high'] = df_['count'].max()\n",
    "initial_values['colorbar_title'] = 'Number of associations per 10k hab'\n",
    "args = create_args_for_maps(df_, 'cp', 'CP') #create_args_for_maps(df, area_name, column_name)\n",
    "datasources = ColumnDataSource(args)\n",
    "maps, hovers, cmaps, color_bar_plots  = create_map(\n",
    "    datasources, \n",
    "    initial_values,\n",
    "    size, size)\n",
    "output_file('../figures/%s.html' % filename)\n",
    "row_ = row(maps, color_bar_plots)\n",
    "save(row_)"
   ]
  },
  {
   "cell_type": "markdown",
   "metadata": {},
   "source": [
    "Map by departements"
   ]
  },
  {
   "cell_type": "code",
   "execution_count": 154,
   "metadata": {},
   "outputs": [
    {
     "name": "stderr",
     "output_type": "stream",
     "text": [
      "WARNING:bokeh.core.validation.check:W-1000 (MISSING_RENDERERS): Plot has no renderers: Figure(id='5422', ...)\n"
     ]
    },
    {
     "data": {
      "text/plain": [
       "'/home/myriam/DataScience/dataforgoodgrenoble/figures/20191105_nb_asso_per_dep.html'"
      ]
     },
     "execution_count": 154,
     "metadata": {},
     "output_type": "execute_result"
    }
   ],
   "source": [
    "filename = '20191105_nb_asso_per_dep'\n",
    "df_ = pd.read_csv('../data/interim/%s.csv' % filename, low_memory=False)\n",
    "initial_values['zone_name'] = 'Departement'\n",
    "initial_values['zone_code'] = 'dep'\n",
    "initial_values['low'] = df_['count'].min()\n",
    "initial_values['high'] = df_['count'].max()\n",
    "initial_values['colorbar_title'] = 'Number of associations'\n",
    "args = create_args_for_maps(df_, 'dep', 'DEP') #create_args_for_maps(df, area_name, column_name)\n",
    "datasources = ColumnDataSource(args)\n",
    "maps, hovers, cmaps, color_bar_plots  = create_map(\n",
    "    datasources, \n",
    "    initial_values,\n",
    "    size, size)\n",
    "output_file('../figures/%s.html' % filename)\n",
    "row_ = row(maps, color_bar_plots)\n",
    "save(row_)"
   ]
  },
  {
   "cell_type": "markdown",
   "metadata": {},
   "source": [
    "Map by departements per 10k habs"
   ]
  },
  {
   "cell_type": "code",
   "execution_count": 153,
   "metadata": {},
   "outputs": [
    {
     "name": "stderr",
     "output_type": "stream",
     "text": [
      "WARNING:bokeh.core.validation.check:W-1000 (MISSING_RENDERERS): Plot has no renderers: Figure(id='5197', ...)\n"
     ]
    },
    {
     "data": {
      "text/plain": [
       "'/home/myriam/DataScience/dataforgoodgrenoble/figures/20191105_nb_asso_per_dep_per10000.html'"
      ]
     },
     "execution_count": 153,
     "metadata": {},
     "output_type": "execute_result"
    }
   ],
   "source": [
    "filename = '20191105_nb_asso_per_dep_per10000'\n",
    "df_ = pd.read_csv('../data/interim/%s.csv' % filename, low_memory=False)\n",
    "initial_values['zone_name'] = 'Departement'\n",
    "initial_values['zone_code'] = 'dep'\n",
    "initial_values['low'] = df_['count'].min()\n",
    "initial_values['high'] = df_['count'].max()\n",
    "initial_values['colorbar_title'] = 'Number of associations per 10k hab'\n",
    "args = create_args_for_maps(df_, 'dep', 'DEP') #create_args_for_maps(df, area_name, column_name)\n",
    "datasources = ColumnDataSource(args)\n",
    "maps, hovers, cmaps, color_bar_plots  = create_map(\n",
    "    datasources, \n",
    "    initial_values,\n",
    "    size, size)\n",
    "output_file('../figures/%s.html' % filename)\n",
    "row_ = row(maps, color_bar_plots)\n",
    "save(row_)"
   ]
  },
  {
   "cell_type": "markdown",
   "metadata": {},
   "source": [
    "Map of Isère"
   ]
  },
  {
   "cell_type": "code",
   "execution_count": 155,
   "metadata": {},
   "outputs": [
    {
     "name": "stderr",
     "output_type": "stream",
     "text": [
      "WARNING:bokeh.core.validation.check:W-1000 (MISSING_RENDERERS): Plot has no renderers: Figure(id='5647', ...)\n"
     ]
    },
    {
     "data": {
      "text/plain": [
       "'/home/myriam/DataScience/dataforgoodgrenoble/figures/20191105_nb_asso_per_cp_isere.html'"
      ]
     },
     "execution_count": 155,
     "metadata": {},
     "output_type": "execute_result"
    }
   ],
   "source": [
    "filename = '20191105_nb_asso_per_cp_isere'\n",
    "df_ = pd.read_csv('../data/interim/%s.csv' % filename, low_memory=False)\n",
    "df_.columns = ['CP', 'count']\n",
    "df_['CP'] = df_['CP'].apply(lambda x: \"{:05d}\".format(x))\n",
    "initial_values['zone_name'] = 'Postal code'\n",
    "initial_values['zone_code'] = 'cp'\n",
    "initial_values['low'] = df_['count'].min()\n",
    "initial_values['high'] = df_['count'].max()\n",
    "initial_values['colorbar_title'] = 'Number of associations per 10k hab'\n",
    "args = create_args_for_maps(df_, 'cp', 'CP') #create_args_for_maps(df, area_name, column_name)\n",
    "datasources = ColumnDataSource(args)\n",
    "maps, hovers, cmaps, color_bar_plots  = create_map(\n",
    "    datasources, \n",
    "    initial_values,\n",
    "    size, size)\n",
    "output_file('../figures/%s.html' % filename)\n",
    "row_ = row(maps, color_bar_plots)\n",
    "save(row_)"
   ]
  }
 ],
 "metadata": {
  "kernelspec": {
   "display_name": "Python3 (Grand Debat)",
   "language": "python",
   "name": "python3-granddebat"
  },
  "language_info": {
   "codemirror_mode": {
    "name": "ipython",
    "version": 3
   },
   "file_extension": ".py",
   "mimetype": "text/x-python",
   "name": "python",
   "nbconvert_exporter": "python",
   "pygments_lexer": "ipython3",
   "version": "3.7.3"
  }
 },
 "nbformat": 4,
 "nbformat_minor": 2
}
