{
 "cells": [
  {
   "cell_type": "markdown",
   "metadata": {},
   "source": [
    "# DataInsights #1/session2\n",
    "\n",
    "- make a clean data set for volunteers to look at in second session\n",
    "\n",
    "This cleans the WALDEC data set from: https://www.data.gouv.fr/fr/datasets/repertoire-national-des-associations/"
   ]
  },
  {
   "cell_type": "markdown",
   "metadata": {},
   "source": [
    "#### how many lines does original csv have?\n",
    "\n",
    "I wonder how many we are missing?"
   ]
  },
  {
   "cell_type": "code",
   "execution_count": 1,
   "metadata": {},
   "outputs": [],
   "source": [
    "path = './../../data/rna_waldec_20191001/rna_waldec_20191001.csv'"
   ]
  },
  {
   "cell_type": "markdown",
   "metadata": {},
   "source": [
    "import csv\n",
    "\n",
    "with open(path) as csvfile:\n",
    "    reader = csv.DictReader(csvfile)\n",
    "    \n",
    "    len(list(reader))"
   ]
  },
  {
   "cell_type": "markdown",
   "metadata": {},
   "source": [
    "#### Load data with pandas"
   ]
  },
  {
   "cell_type": "code",
   "execution_count": 2,
   "metadata": {},
   "outputs": [],
   "source": [
    "import pandas as pd\n",
    "import numpy as np"
   ]
  },
  {
   "cell_type": "code",
   "execution_count": 3,
   "metadata": {},
   "outputs": [],
   "source": [
    "df = pd.read_csv(path, sep=';', error_bad_lines=False, engine='python')"
   ]
  },
  {
   "cell_type": "code",
   "execution_count": 4,
   "metadata": {},
   "outputs": [
    {
     "data": {
      "text/plain": [
       "(1733433, 39)"
      ]
     },
     "execution_count": 4,
     "metadata": {},
     "output_type": "execute_result"
    }
   ],
   "source": [
    "df.shape"
   ]
  },
  {
   "cell_type": "code",
   "execution_count": 5,
   "metadata": {},
   "outputs": [
    {
     "data": {
      "text/html": [
       "<div>\n",
       "<style scoped>\n",
       "    .dataframe tbody tr th:only-of-type {\n",
       "        vertical-align: middle;\n",
       "    }\n",
       "\n",
       "    .dataframe tbody tr th {\n",
       "        vertical-align: top;\n",
       "    }\n",
       "\n",
       "    .dataframe thead th {\n",
       "        text-align: right;\n",
       "    }\n",
       "</style>\n",
       "<table border=\"1\" class=\"dataframe\">\n",
       "  <thead>\n",
       "    <tr style=\"text-align: right;\">\n",
       "      <th></th>\n",
       "      <th>id</th>\n",
       "      <th>id_ex</th>\n",
       "      <th>siret</th>\n",
       "      <th>rup_mi</th>\n",
       "      <th>gestion</th>\n",
       "      <th>date_creat</th>\n",
       "      <th>date_decla</th>\n",
       "      <th>date_publi</th>\n",
       "      <th>date_disso</th>\n",
       "      <th>nature</th>\n",
       "      <th>...</th>\n",
       "      <th>adrg_distrib</th>\n",
       "      <th>adrg_codepostal</th>\n",
       "      <th>adrg_achemine</th>\n",
       "      <th>adrg_pays</th>\n",
       "      <th>dir_civilite</th>\n",
       "      <th>siteweb</th>\n",
       "      <th>publiweb</th>\n",
       "      <th>observation</th>\n",
       "      <th>position</th>\n",
       "      <th>maj_time</th>\n",
       "    </tr>\n",
       "  </thead>\n",
       "  <tbody>\n",
       "    <tr>\n",
       "      <th>0</th>\n",
       "      <td>W632007046</td>\n",
       "      <td>NaN</td>\n",
       "      <td>NaN</td>\n",
       "      <td>NaN</td>\n",
       "      <td>632P</td>\n",
       "      <td>2014-06-17</td>\n",
       "      <td>2015-01-21</td>\n",
       "      <td>2014-06-28</td>\n",
       "      <td>2015-01-20</td>\n",
       "      <td>D</td>\n",
       "      <td>...</td>\n",
       "      <td>NaN</td>\n",
       "      <td>63000</td>\n",
       "      <td>CLERMONT-FERRAND</td>\n",
       "      <td>FRANCE</td>\n",
       "      <td>PP</td>\n",
       "      <td>NaN</td>\n",
       "      <td>0.0</td>\n",
       "      <td>NaN</td>\n",
       "      <td>D</td>\n",
       "      <td>2015-02-09 12:51:34</td>\n",
       "    </tr>\n",
       "    <tr>\n",
       "      <th>1</th>\n",
       "      <td>W012000002</td>\n",
       "      <td>2/08825</td>\n",
       "      <td>NaN</td>\n",
       "      <td>NaN</td>\n",
       "      <td>691P</td>\n",
       "      <td>1983-10-10</td>\n",
       "      <td>2004-03-11</td>\n",
       "      <td>0001-01-01</td>\n",
       "      <td>0001-01-01</td>\n",
       "      <td>D</td>\n",
       "      <td>...</td>\n",
       "      <td>NaN</td>\n",
       "      <td>69100</td>\n",
       "      <td>villeurbanne</td>\n",
       "      <td>FRANCE</td>\n",
       "      <td>PM</td>\n",
       "      <td>NaN</td>\n",
       "      <td>1.0</td>\n",
       "      <td>NaN</td>\n",
       "      <td>A</td>\n",
       "      <td>2008-02-12 14:40:18</td>\n",
       "    </tr>\n",
       "    <tr>\n",
       "      <th>2</th>\n",
       "      <td>W012000005</td>\n",
       "      <td>0012011852</td>\n",
       "      <td>NaN</td>\n",
       "      <td>NaN</td>\n",
       "      <td>691P</td>\n",
       "      <td>2003-09-01</td>\n",
       "      <td>2005-01-25</td>\n",
       "      <td>0001-01-01</td>\n",
       "      <td>0001-01-01</td>\n",
       "      <td>D</td>\n",
       "      <td>...</td>\n",
       "      <td>NaN</td>\n",
       "      <td>69270</td>\n",
       "      <td>FONTAINE SUR SAONE</td>\n",
       "      <td>FRANCE</td>\n",
       "      <td>PM</td>\n",
       "      <td>NaN</td>\n",
       "      <td>1.0</td>\n",
       "      <td>NaN</td>\n",
       "      <td>A</td>\n",
       "      <td>2007-04-05 09:41:02</td>\n",
       "    </tr>\n",
       "  </tbody>\n",
       "</table>\n",
       "<p>3 rows × 39 columns</p>\n",
       "</div>"
      ],
      "text/plain": [
       "           id       id_ex siret rup_mi gestion  date_creat  date_decla  \\\n",
       "0  W632007046         NaN   NaN    NaN    632P  2014-06-17  2015-01-21   \n",
       "1  W012000002     2/08825   NaN    NaN    691P  1983-10-10  2004-03-11   \n",
       "2  W012000005  0012011852   NaN    NaN    691P  2003-09-01  2005-01-25   \n",
       "\n",
       "   date_publi  date_disso nature         ...          adrg_distrib  \\\n",
       "0  2014-06-28  2015-01-20      D         ...                   NaN   \n",
       "1  0001-01-01  0001-01-01      D         ...                   NaN   \n",
       "2  0001-01-01  0001-01-01      D         ...                   NaN   \n",
       "\n",
       "  adrg_codepostal       adrg_achemine adrg_pays dir_civilite siteweb publiweb  \\\n",
       "0           63000    CLERMONT-FERRAND    FRANCE           PP     NaN      0.0   \n",
       "1           69100        villeurbanne    FRANCE           PM     NaN      1.0   \n",
       "2           69270  FONTAINE SUR SAONE    FRANCE           PM     NaN      1.0   \n",
       "\n",
       "  observation position             maj_time  \n",
       "0         NaN        D  2015-02-09 12:51:34  \n",
       "1         NaN        A  2008-02-12 14:40:18  \n",
       "2         NaN        A  2007-04-05 09:41:02  \n",
       "\n",
       "[3 rows x 39 columns]"
      ]
     },
     "execution_count": 5,
     "metadata": {},
     "output_type": "execute_result"
    }
   ],
   "source": [
    "df.head(3)"
   ]
  },
  {
   "cell_type": "markdown",
   "metadata": {},
   "source": [
    "#### find proportion missing from each column"
   ]
  },
  {
   "cell_type": "code",
   "execution_count": 6,
   "metadata": {},
   "outputs": [
    {
     "data": {
      "text/html": [
       "<div>\n",
       "<style scoped>\n",
       "    .dataframe tbody tr th:only-of-type {\n",
       "        vertical-align: middle;\n",
       "    }\n",
       "\n",
       "    .dataframe tbody tr th {\n",
       "        vertical-align: top;\n",
       "    }\n",
       "\n",
       "    .dataframe thead th {\n",
       "        text-align: right;\n",
       "    }\n",
       "</style>\n",
       "<table border=\"1\" class=\"dataframe\">\n",
       "  <thead>\n",
       "    <tr style=\"text-align: right;\">\n",
       "      <th></th>\n",
       "      <th>0</th>\n",
       "    </tr>\n",
       "  </thead>\n",
       "  <tbody>\n",
       "    <tr>\n",
       "      <th>adrs_repetition</th>\n",
       "      <td>0.998324</td>\n",
       "    </tr>\n",
       "    <tr>\n",
       "      <th>rup_mi</th>\n",
       "      <td>0.996639</td>\n",
       "    </tr>\n",
       "    <tr>\n",
       "      <th>siret</th>\n",
       "      <td>0.981590</td>\n",
       "    </tr>\n",
       "    <tr>\n",
       "      <th>adrg_declarant</th>\n",
       "      <td>0.976880</td>\n",
       "    </tr>\n",
       "    <tr>\n",
       "      <th>siteweb</th>\n",
       "      <td>0.968481</td>\n",
       "    </tr>\n",
       "    <tr>\n",
       "      <th>adrg_complemgeo</th>\n",
       "      <td>0.948997</td>\n",
       "    </tr>\n",
       "    <tr>\n",
       "      <th>adrg_distrib</th>\n",
       "      <td>0.906085</td>\n",
       "    </tr>\n",
       "    <tr>\n",
       "      <th>observation</th>\n",
       "      <td>0.783862</td>\n",
       "    </tr>\n",
       "    <tr>\n",
       "      <th>adrg_complemid</th>\n",
       "      <td>0.733536</td>\n",
       "    </tr>\n",
       "    <tr>\n",
       "      <th>adrs_complement</th>\n",
       "      <td>0.662397</td>\n",
       "    </tr>\n",
       "    <tr>\n",
       "      <th>id_ex</th>\n",
       "      <td>0.503703</td>\n",
       "    </tr>\n",
       "    <tr>\n",
       "      <th>adrs_numvoie</th>\n",
       "      <td>0.344374</td>\n",
       "    </tr>\n",
       "    <tr>\n",
       "      <th>adrs_typevoie</th>\n",
       "      <td>0.267636</td>\n",
       "    </tr>\n",
       "    <tr>\n",
       "      <th>adrg_libvoie</th>\n",
       "      <td>0.200967</td>\n",
       "    </tr>\n",
       "    <tr>\n",
       "      <th>adrs_libvoie</th>\n",
       "      <td>0.185381</td>\n",
       "    </tr>\n",
       "    <tr>\n",
       "      <th>adrs_distrib</th>\n",
       "      <td>0.019843</td>\n",
       "    </tr>\n",
       "    <tr>\n",
       "      <th>adrg_achemine</th>\n",
       "      <td>0.001288</td>\n",
       "    </tr>\n",
       "    <tr>\n",
       "      <th>adrg_codepostal</th>\n",
       "      <td>0.001221</td>\n",
       "    </tr>\n",
       "    <tr>\n",
       "      <th>adrs_libcommune</th>\n",
       "      <td>0.000627</td>\n",
       "    </tr>\n",
       "    <tr>\n",
       "      <th>adrg_pays</th>\n",
       "      <td>0.000539</td>\n",
       "    </tr>\n",
       "  </tbody>\n",
       "</table>\n",
       "</div>"
      ],
      "text/plain": [
       "                        0\n",
       "adrs_repetition  0.998324\n",
       "rup_mi           0.996639\n",
       "siret            0.981590\n",
       "adrg_declarant   0.976880\n",
       "siteweb          0.968481\n",
       "adrg_complemgeo  0.948997\n",
       "adrg_distrib     0.906085\n",
       "observation      0.783862\n",
       "adrg_complemid   0.733536\n",
       "adrs_complement  0.662397\n",
       "id_ex            0.503703\n",
       "adrs_numvoie     0.344374\n",
       "adrs_typevoie    0.267636\n",
       "adrg_libvoie     0.200967\n",
       "adrs_libvoie     0.185381\n",
       "adrs_distrib     0.019843\n",
       "adrg_achemine    0.001288\n",
       "adrg_codepostal  0.001221\n",
       "adrs_libcommune  0.000627\n",
       "adrg_pays        0.000539"
      ]
     },
     "execution_count": 6,
     "metadata": {},
     "output_type": "execute_result"
    }
   ],
   "source": [
    "pd.DataFrame(df.isnull().sum()/df.shape[0]).sort_values(by=0, ascending=False).head(20)"
   ]
  },
  {
   "cell_type": "markdown",
   "metadata": {},
   "source": [
    "#### dropcolumns that are not of use"
   ]
  },
  {
   "cell_type": "markdown",
   "metadata": {},
   "source": [
    "There are many missing values in many columns:"
   ]
  },
  {
   "cell_type": "code",
   "execution_count": 7,
   "metadata": {},
   "outputs": [],
   "source": [
    "cols_lots_missing_values = [\n",
    "#     'adrs_repetition',\n",
    "    'rup_mi',\n",
    "    'siret',\n",
    "#     'adrg_declarant',\n",
    "    'siteweb',\n",
    "#     'adrg_complemgeo',\n",
    "#     'adrg_distrib',\n",
    "]"
   ]
  },
  {
   "cell_type": "markdown",
   "metadata": {},
   "source": [
    "Some columns look non-useful:"
   ]
  },
  {
   "cell_type": "code",
   "execution_count": 8,
   "metadata": {},
   "outputs": [],
   "source": [
    "cols_notinteresting = [\n",
    "    'observation', # this seems to be notes about the admin on the database\n",
    "#     'id_ex', # this is an old ref, 50% are missing, there is a newer one 'id'\n",
    "    'date_decla', # we have date created which will do, same for col below\n",
    "    'date_publi',\n",
    "    'gestion', #where the associations were recored, presumably online/prefecture.\n",
    "    'publiweb', # can publish on web or not\n",
    "    'maj_time', # time aded to database\n",
    "]\n"
   ]
  },
  {
   "cell_type": "code",
   "execution_count": 9,
   "metadata": {},
   "outputs": [],
   "source": [
    "cols_todrop = cols_lots_missing_values + cols_notinteresting\n",
    "dff = df.drop(cols_todrop,axis=1)"
   ]
  },
  {
   "cell_type": "code",
   "execution_count": 10,
   "metadata": {},
   "outputs": [
    {
     "data": {
      "text/plain": [
       "(1733433, 30)"
      ]
     },
     "execution_count": 10,
     "metadata": {},
     "output_type": "execute_result"
    }
   ],
   "source": [
    "dff.shape"
   ]
  },
  {
   "cell_type": "code",
   "execution_count": 11,
   "metadata": {},
   "outputs": [
    {
     "data": {
      "text/plain": [
       "['rup_mi',\n",
       " 'siret',\n",
       " 'siteweb',\n",
       " 'observation',\n",
       " 'date_decla',\n",
       " 'date_publi',\n",
       " 'gestion',\n",
       " 'publiweb',\n",
       " 'maj_time']"
      ]
     },
     "execution_count": 11,
     "metadata": {},
     "output_type": "execute_result"
    }
   ],
   "source": [
    "cols_todrop"
   ]
  },
  {
   "cell_type": "code",
   "execution_count": 12,
   "metadata": {},
   "outputs": [
    {
     "name": "stdout",
     "output_type": "stream",
     "text": [
      "id\n",
      "id_ex\n",
      "date_creat\n",
      "date_disso\n",
      "nature\n",
      "groupement\n",
      "titre\n",
      "titre_court\n",
      "objet\n",
      "objet_social1\n",
      "objet_social2\n",
      "adrs_complement\n",
      "adrs_numvoie\n",
      "adrs_repetition\n",
      "adrs_typevoie\n",
      "adrs_libvoie\n",
      "adrs_distrib\n",
      "adrs_codeinsee\n",
      "adrs_codepostal\n",
      "adrs_libcommune\n",
      "adrg_declarant\n",
      "adrg_complemid\n",
      "adrg_complemgeo\n",
      "adrg_libvoie\n",
      "adrg_distrib\n",
      "adrg_codepostal\n",
      "adrg_achemine\n",
      "adrg_pays\n",
      "dir_civilite\n",
      "position\n"
     ]
    }
   ],
   "source": [
    "for  i in dff.columns:\n",
    "    print(i)"
   ]
  },
  {
   "cell_type": "code",
   "execution_count": 13,
   "metadata": {},
   "outputs": [],
   "source": [
    "cols_to_keep = ['id',\n",
    "                'id_ex',\n",
    "'date_creat',\n",
    "'date_disso',\n",
    "'nature',\n",
    "'groupement',\n",
    "'objet_social1',\n",
    "'adrs_codepostal',\n",
    "]"
   ]
  },
  {
   "cell_type": "code",
   "execution_count": 14,
   "metadata": {},
   "outputs": [],
   "source": [
    "dff = df[cols_to_keep]"
   ]
  },
  {
   "cell_type": "markdown",
   "metadata": {},
   "source": [
    "#### merge table of objet_social1, and objet_social2 so have text description"
   ]
  },
  {
   "cell_type": "code",
   "execution_count": 15,
   "metadata": {},
   "outputs": [],
   "source": [
    "objet_desc = pd.read_excel('./../../data/Fichier_RNA_-_Nomenclature_Complete_Objet_Social_.xlsx')"
   ]
  },
  {
   "cell_type": "markdown",
   "metadata": {},
   "source": [
    "There are some address values in the objet columns in the waldoc data set. Clean those and replace with Nans now."
   ]
  },
  {
   "cell_type": "code",
   "execution_count": 16,
   "metadata": {},
   "outputs": [
    {
     "name": "stderr",
     "output_type": "stream",
     "text": [
      "C:\\Anaconda3\\lib\\site-packages\\pandas\\core\\generic.py:4405: SettingWithCopyWarning: \n",
      "A value is trying to be set on a copy of a slice from a DataFrame.\n",
      "Try using .loc[row_indexer,col_indexer] = value instead\n",
      "\n",
      "See the caveats in the documentation: http://pandas.pydata.org/pandas-docs/stable/indexing.html#indexing-view-versus-copy\n",
      "  self[name] = value\n"
     ]
    }
   ],
   "source": [
    "poss_values = objet_desc['Code Objet Social'].values\n",
    "\n",
    "def filter_func(x):\n",
    "    \"\"\n",
    "    value = np.nan\n",
    "    if len(str(x)) == 6:\n",
    "        value=x\n",
    "    return(value)\n",
    "\n",
    "# filter_func(11111)\n",
    "\n",
    "dff.objet_social1 = dff.objet_social1.apply(filter_func)\n",
    "# dff.objet_social2 = dff.objet_social2.apply(filter_func)"
   ]
  },
  {
   "cell_type": "code",
   "execution_count": 17,
   "metadata": {},
   "outputs": [
    {
     "data": {
      "text/plain": [
       "dtype('int64')"
      ]
     },
     "execution_count": 17,
     "metadata": {},
     "output_type": "execute_result"
    }
   ],
   "source": [
    "objet_desc['Code Objet Social'].dtype"
   ]
  },
  {
   "cell_type": "code",
   "execution_count": 18,
   "metadata": {},
   "outputs": [
    {
     "data": {
      "text/plain": [
       "113"
      ]
     },
     "execution_count": 18,
     "metadata": {},
     "output_type": "execute_result"
    }
   ],
   "source": [
    "dff.objet_social1.isnull().sum()"
   ]
  },
  {
   "cell_type": "markdown",
   "metadata": {},
   "source": [
    "There are some missing values in objet_social1 & 2. Dropping these rows as wont merge otherwise. We lose about 300 associaitons."
   ]
  },
  {
   "cell_type": "code",
   "execution_count": 19,
   "metadata": {},
   "outputs": [
    {
     "data": {
      "text/plain": [
       "(1733433, 8)"
      ]
     },
     "execution_count": 19,
     "metadata": {},
     "output_type": "execute_result"
    }
   ],
   "source": [
    "dff.shape"
   ]
  },
  {
   "cell_type": "code",
   "execution_count": 20,
   "metadata": {},
   "outputs": [
    {
     "name": "stderr",
     "output_type": "stream",
     "text": [
      "C:\\Anaconda3\\lib\\site-packages\\ipykernel\\__main__.py:1: SettingWithCopyWarning: \n",
      "A value is trying to be set on a copy of a slice from a DataFrame\n",
      "\n",
      "See the caveats in the documentation: http://pandas.pydata.org/pandas-docs/stable/indexing.html#indexing-view-versus-copy\n",
      "  if __name__ == '__main__':\n"
     ]
    },
    {
     "data": {
      "text/plain": [
       "(1733320, 8)"
      ]
     },
     "execution_count": 20,
     "metadata": {},
     "output_type": "execute_result"
    }
   ],
   "source": [
    "dff.dropna(subset=['objet_social1'],inplace=True)\n",
    "\n",
    "dff.shape"
   ]
  },
  {
   "cell_type": "markdown",
   "metadata": {},
   "source": [
    "erroneous_values = ['40 000','023àà(','011.75']\n",
    "\n",
    "dff.drop(index = dff[dff.objet_social2.isin( erroneous_values)].index, inplace=True)"
   ]
  },
  {
   "cell_type": "code",
   "execution_count": 21,
   "metadata": {},
   "outputs": [
    {
     "data": {
      "text/plain": [
       "(1733320, 8)"
      ]
     },
     "execution_count": 21,
     "metadata": {},
     "output_type": "execute_result"
    }
   ],
   "source": [
    "dff.shape"
   ]
  },
  {
   "cell_type": "code",
   "execution_count": 22,
   "metadata": {},
   "outputs": [],
   "source": [
    "dff.objet_social1 = dff.objet_social1.astype(int)\n",
    "# dff.objet_social2 = dff.objet_social2.astype(int)"
   ]
  },
  {
   "cell_type": "code",
   "execution_count": 23,
   "metadata": {},
   "outputs": [
    {
     "data": {
      "text/plain": [
       "(1733320, 9)"
      ]
     },
     "execution_count": 23,
     "metadata": {},
     "output_type": "execute_result"
    }
   ],
   "source": [
    "dff = dff.merge(objet_desc, how='left', left_on='objet_social1', right_on='Code Objet Social')\n",
    "dff.drop(columns=['Code Objet Social'],inplace=True)\n",
    "dff.rename({'Objet Social':'objet_social1_desc'},axis=1, inplace=True)\n",
    "dff.shape"
   ]
  },
  {
   "cell_type": "markdown",
   "metadata": {},
   "source": [
    "dff = dff.merge(objet_desc, how='left', left_on='objet_social2', right_on='Code Objet Social')\n",
    "dff.drop(columns=['Code Objet Social'],inplace=True)\n",
    "dff.rename({'Objet Social':'objet_social2_desc'}, axis=1, inplace=True)\n",
    "dff.shape"
   ]
  },
  {
   "cell_type": "code",
   "execution_count": null,
   "metadata": {},
   "outputs": [],
   "source": []
  },
  {
   "cell_type": "markdown",
   "metadata": {},
   "source": [
    "#### create flag for association no longer active \n"
   ]
  },
  {
   "cell_type": "markdown",
   "metadata": {},
   "source": [
    "dff['association_active'] = 0\n",
    "dff.loc[dff.position == 'A', 'association_active'] = 1"
   ]
  },
  {
   "cell_type": "markdown",
   "metadata": {},
   "source": [
    "dff.association_active.value_counts()"
   ]
  },
  {
   "cell_type": "markdown",
   "metadata": {},
   "source": [
    "#### check through columns and check how many lines are messed up with wrong types of data\n",
    "\n",
    "If there are not too many then we just delete them i think.\n",
    "- code_postal, len 5\n",
    "- objet_social1, len 6"
   ]
  },
  {
   "cell_type": "code",
   "execution_count": null,
   "metadata": {},
   "outputs": [],
   "source": []
  },
  {
   "cell_type": "markdown",
   "metadata": {},
   "source": [
    "#### clean adress fields"
   ]
  },
  {
   "cell_type": "code",
   "execution_count": null,
   "metadata": {},
   "outputs": [],
   "source": []
  },
  {
   "cell_type": "markdown",
   "metadata": {},
   "source": [
    "## export data to csv\n",
    "\n",
    "- put columns in nice order"
   ]
  },
  {
   "cell_type": "markdown",
   "metadata": {},
   "source": [
    "dff.rename({'Objet Social_x':'objet_social2_desc'},axis=1, inplace=True)"
   ]
  },
  {
   "cell_type": "code",
   "execution_count": 24,
   "metadata": {},
   "outputs": [
    {
     "data": {
      "text/html": [
       "<div>\n",
       "<style scoped>\n",
       "    .dataframe tbody tr th:only-of-type {\n",
       "        vertical-align: middle;\n",
       "    }\n",
       "\n",
       "    .dataframe tbody tr th {\n",
       "        vertical-align: top;\n",
       "    }\n",
       "\n",
       "    .dataframe thead th {\n",
       "        text-align: right;\n",
       "    }\n",
       "</style>\n",
       "<table border=\"1\" class=\"dataframe\">\n",
       "  <thead>\n",
       "    <tr style=\"text-align: right;\">\n",
       "      <th></th>\n",
       "      <th>id</th>\n",
       "      <th>id_ex</th>\n",
       "      <th>date_creat</th>\n",
       "      <th>date_disso</th>\n",
       "      <th>nature</th>\n",
       "      <th>groupement</th>\n",
       "      <th>objet_social1</th>\n",
       "      <th>adrs_codepostal</th>\n",
       "      <th>objet_social1_desc</th>\n",
       "    </tr>\n",
       "  </thead>\n",
       "  <tbody>\n",
       "    <tr>\n",
       "      <th>0</th>\n",
       "      <td>W632007046</td>\n",
       "      <td>NaN</td>\n",
       "      <td>2014-06-17</td>\n",
       "      <td>2015-01-20</td>\n",
       "      <td>D</td>\n",
       "      <td>S</td>\n",
       "      <td>6030</td>\n",
       "      <td>63000.0</td>\n",
       "      <td>chant choral, musique</td>\n",
       "    </tr>\n",
       "    <tr>\n",
       "      <th>1</th>\n",
       "      <td>W012000002</td>\n",
       "      <td>2/08825</td>\n",
       "      <td>1983-10-10</td>\n",
       "      <td>0001-01-01</td>\n",
       "      <td>D</td>\n",
       "      <td>S</td>\n",
       "      <td>6070</td>\n",
       "      <td>69100.0</td>\n",
       "      <td>théâtre, marionnettes, cirque, spectacles de v...</td>\n",
       "    </tr>\n",
       "    <tr>\n",
       "      <th>2</th>\n",
       "      <td>W012000005</td>\n",
       "      <td>0012011852</td>\n",
       "      <td>2003-09-01</td>\n",
       "      <td>0001-01-01</td>\n",
       "      <td>D</td>\n",
       "      <td>S</td>\n",
       "      <td>20000</td>\n",
       "      <td>69270.0</td>\n",
       "      <td>associations caritatives, humanitaires, aide a...</td>\n",
       "    </tr>\n",
       "    <tr>\n",
       "      <th>3</th>\n",
       "      <td>W012000006</td>\n",
       "      <td>0012010354</td>\n",
       "      <td>1999-02-11</td>\n",
       "      <td>2008-02-27</td>\n",
       "      <td>D</td>\n",
       "      <td>S</td>\n",
       "      <td>6000</td>\n",
       "      <td>69008.0</td>\n",
       "      <td>culture, pratiques d\\’activités artistiques, c...</td>\n",
       "    </tr>\n",
       "    <tr>\n",
       "      <th>4</th>\n",
       "      <td>W033002617</td>\n",
       "      <td>NaN</td>\n",
       "      <td>2008-05-19</td>\n",
       "      <td>0001-01-01</td>\n",
       "      <td>D</td>\n",
       "      <td>S</td>\n",
       "      <td>11075</td>\n",
       "      <td>3700.0</td>\n",
       "      <td>Football (football, futsal)</td>\n",
       "    </tr>\n",
       "  </tbody>\n",
       "</table>\n",
       "</div>"
      ],
      "text/plain": [
       "           id       id_ex  date_creat  date_disso nature groupement  \\\n",
       "0  W632007046         NaN  2014-06-17  2015-01-20      D          S   \n",
       "1  W012000002     2/08825  1983-10-10  0001-01-01      D          S   \n",
       "2  W012000005  0012011852  2003-09-01  0001-01-01      D          S   \n",
       "3  W012000006  0012010354  1999-02-11  2008-02-27      D          S   \n",
       "4  W033002617         NaN  2008-05-19  0001-01-01      D          S   \n",
       "\n",
       "   objet_social1  adrs_codepostal  \\\n",
       "0           6030          63000.0   \n",
       "1           6070          69100.0   \n",
       "2          20000          69270.0   \n",
       "3           6000          69008.0   \n",
       "4          11075           3700.0   \n",
       "\n",
       "                                  objet_social1_desc  \n",
       "0                             chant choral, musique   \n",
       "1  théâtre, marionnettes, cirque, spectacles de v...  \n",
       "2  associations caritatives, humanitaires, aide a...  \n",
       "3  culture, pratiques d\\’activités artistiques, c...  \n",
       "4                       Football (football, futsal)   "
      ]
     },
     "execution_count": 24,
     "metadata": {},
     "output_type": "execute_result"
    }
   ],
   "source": [
    "dff.head()"
   ]
  },
  {
   "cell_type": "code",
   "execution_count": 25,
   "metadata": {},
   "outputs": [
    {
     "data": {
      "text/plain": [
       "Index(['id', 'id_ex', 'date_creat', 'date_disso', 'nature', 'groupement',\n",
       "       'objet_social1', 'adrs_codepostal', 'objet_social1_desc'],\n",
       "      dtype='object')"
      ]
     },
     "execution_count": 25,
     "metadata": {},
     "output_type": "execute_result"
    }
   ],
   "source": [
    "dff.columns"
   ]
  },
  {
   "cell_type": "markdown",
   "metadata": {},
   "source": [
    "# import non-waldec dataset"
   ]
  },
  {
   "cell_type": "code",
   "execution_count": 26,
   "metadata": {},
   "outputs": [],
   "source": [
    "df_imp = pd.read_csv('./../../data/rna_import_20191001/rna_import_20191001.csv', sep=';',engine='python')"
   ]
  },
  {
   "cell_type": "code",
   "execution_count": 27,
   "metadata": {},
   "outputs": [
    {
     "data": {
      "text/plain": [
       "['id',\n",
       " 'id_ex',\n",
       " 'date_creat',\n",
       " 'date_disso',\n",
       " 'nature',\n",
       " 'groupement',\n",
       " 'objet_social1',\n",
       " 'adrs_codepostal']"
      ]
     },
     "execution_count": 27,
     "metadata": {},
     "output_type": "execute_result"
    }
   ],
   "source": [
    "cols_to_keep"
   ]
  },
  {
   "cell_type": "code",
   "execution_count": 28,
   "metadata": {},
   "outputs": [
    {
     "data": {
      "text/html": [
       "<div>\n",
       "<style scoped>\n",
       "    .dataframe tbody tr th:only-of-type {\n",
       "        vertical-align: middle;\n",
       "    }\n",
       "\n",
       "    .dataframe tbody tr th {\n",
       "        vertical-align: top;\n",
       "    }\n",
       "\n",
       "    .dataframe thead th {\n",
       "        text-align: right;\n",
       "    }\n",
       "</style>\n",
       "<table border=\"1\" class=\"dataframe\">\n",
       "  <thead>\n",
       "    <tr style=\"text-align: right;\">\n",
       "      <th></th>\n",
       "      <th>id</th>\n",
       "      <th>id_ex</th>\n",
       "      <th>siret</th>\n",
       "      <th>gestion</th>\n",
       "      <th>date_creat</th>\n",
       "      <th>date_publi</th>\n",
       "      <th>nature</th>\n",
       "      <th>groupement</th>\n",
       "      <th>titre</th>\n",
       "      <th>objet</th>\n",
       "      <th>...</th>\n",
       "      <th>adr3</th>\n",
       "      <th>adrs_codepostal</th>\n",
       "      <th>libcom</th>\n",
       "      <th>adrs_codeinsee</th>\n",
       "      <th>dir_civilite</th>\n",
       "      <th>siteweb</th>\n",
       "      <th>observation</th>\n",
       "      <th>position</th>\n",
       "      <th>rup_mi</th>\n",
       "      <th>maj_time</th>\n",
       "    </tr>\n",
       "  </thead>\n",
       "  <tbody>\n",
       "    <tr>\n",
       "      <th>0</th>\n",
       "      <td>751P00085568</td>\n",
       "      <td>00085568</td>\n",
       "      <td>NaN</td>\n",
       "      <td>751P</td>\n",
       "      <td>1988-04-15</td>\n",
       "      <td>0001-01-01</td>\n",
       "      <td>D</td>\n",
       "      <td>S</td>\n",
       "      <td>INDIGO</td>\n",
       "      <td>dvpt et démocratisation de la musique</td>\n",
       "      <td>...</td>\n",
       "      <td>NaN</td>\n",
       "      <td>75014</td>\n",
       "      <td>PARIS</td>\n",
       "      <td>75114</td>\n",
       "      <td>PM</td>\n",
       "      <td>NaN</td>\n",
       "      <td>W751085568</td>\n",
       "      <td>R</td>\n",
       "      <td>NaN</td>\n",
       "      <td>2013-07-10  07:33:24</td>\n",
       "    </tr>\n",
       "    <tr>\n",
       "      <th>1</th>\n",
       "      <td>751P00184848</td>\n",
       "      <td>00184848</td>\n",
       "      <td>NaN</td>\n",
       "      <td>751P</td>\n",
       "      <td>2008-01-18</td>\n",
       "      <td>2008-02-23</td>\n",
       "      <td>D</td>\n",
       "      <td>S</td>\n",
       "      <td>COMITE DE GESTION RUE PINEL</td>\n",
       "      <td>la gestion des locaux et des services nécessai...</td>\n",
       "      <td>...</td>\n",
       "      <td>NaN</td>\n",
       "      <td>75013</td>\n",
       "      <td>PARIS</td>\n",
       "      <td>75113</td>\n",
       "      <td>PM</td>\n",
       "      <td>NaN</td>\n",
       "      <td>W751184848</td>\n",
       "      <td>R</td>\n",
       "      <td>NaN</td>\n",
       "      <td>2013-07-16  07:30:17</td>\n",
       "    </tr>\n",
       "    <tr>\n",
       "      <th>2</th>\n",
       "      <td>751P00188854</td>\n",
       "      <td>00188854</td>\n",
       "      <td>NaN</td>\n",
       "      <td>751P</td>\n",
       "      <td>2008-11-10</td>\n",
       "      <td>0001-01-01</td>\n",
       "      <td>D</td>\n",
       "      <td>S</td>\n",
       "      <td>HELP MEDIA</td>\n",
       "      <td>proposer aux personnes actives et non actives ...</td>\n",
       "      <td>...</td>\n",
       "      <td>NaN</td>\n",
       "      <td>75006</td>\n",
       "      <td>PARIS</td>\n",
       "      <td>75106</td>\n",
       "      <td>PM</td>\n",
       "      <td>NaN</td>\n",
       "      <td>W751188854</td>\n",
       "      <td>R</td>\n",
       "      <td>NaN</td>\n",
       "      <td>2013-09-23  09:55:18</td>\n",
       "    </tr>\n",
       "    <tr>\n",
       "      <th>3</th>\n",
       "      <td>751P00100798</td>\n",
       "      <td>00100798</td>\n",
       "      <td>NaN</td>\n",
       "      <td>751P</td>\n",
       "      <td>1991-07-25</td>\n",
       "      <td>0001-01-01</td>\n",
       "      <td>D</td>\n",
       "      <td>S</td>\n",
       "      <td>CENTRE D'ETUDES DE DOCUMENTATION ET D'OBSERVAT...</td>\n",
       "      <td>l'association conduit suscite aide et encourag...</td>\n",
       "      <td>...</td>\n",
       "      <td>NaN</td>\n",
       "      <td>75012</td>\n",
       "      <td>PARIS</td>\n",
       "      <td>75112</td>\n",
       "      <td>PM</td>\n",
       "      <td>NaN</td>\n",
       "      <td>W751100798</td>\n",
       "      <td>R</td>\n",
       "      <td>NaN</td>\n",
       "      <td>2013-09-25  09:27:16</td>\n",
       "    </tr>\n",
       "    <tr>\n",
       "      <th>4</th>\n",
       "      <td>061S0061013683</td>\n",
       "      <td>0061013683</td>\n",
       "      <td>NaN</td>\n",
       "      <td>061S</td>\n",
       "      <td>0001-01-01</td>\n",
       "      <td>1997-11-15</td>\n",
       "      <td>D</td>\n",
       "      <td>S</td>\n",
       "      <td>CONTACTS FRANCE UKRAINE</td>\n",
       "      <td>Faire connaitre a tous public l'interet de dev...</td>\n",
       "      <td>...</td>\n",
       "      <td>NaN</td>\n",
       "      <td>06150</td>\n",
       "      <td>CANNES</td>\n",
       "      <td>06029</td>\n",
       "      <td>PM</td>\n",
       "      <td>NaN</td>\n",
       "      <td>W061004727</td>\n",
       "      <td>R</td>\n",
       "      <td>NaN</td>\n",
       "      <td>2013-12-02  12:02:35</td>\n",
       "    </tr>\n",
       "  </tbody>\n",
       "</table>\n",
       "<p>5 rows × 24 columns</p>\n",
       "</div>"
      ],
      "text/plain": [
       "               id       id_ex siret gestion  date_creat  date_publi nature  \\\n",
       "0    751P00085568    00085568   NaN    751P  1988-04-15  0001-01-01      D   \n",
       "1    751P00184848    00184848   NaN    751P  2008-01-18  2008-02-23      D   \n",
       "2    751P00188854    00188854   NaN    751P  2008-11-10  0001-01-01      D   \n",
       "3    751P00100798    00100798   NaN    751P  1991-07-25  0001-01-01      D   \n",
       "4  061S0061013683  0061013683   NaN    061S  0001-01-01  1997-11-15      D   \n",
       "\n",
       "  groupement                                              titre  \\\n",
       "0          S                                             INDIGO   \n",
       "1          S                        COMITE DE GESTION RUE PINEL   \n",
       "2          S                                         HELP MEDIA   \n",
       "3          S  CENTRE D'ETUDES DE DOCUMENTATION ET D'OBSERVAT...   \n",
       "4          S                            CONTACTS FRANCE UKRAINE   \n",
       "\n",
       "                                               objet          ...           \\\n",
       "0              dvpt et démocratisation de la musique          ...            \n",
       "1  la gestion des locaux et des services nécessai...          ...            \n",
       "2  proposer aux personnes actives et non actives ...          ...            \n",
       "3  l'association conduit suscite aide et encourag...          ...            \n",
       "4  Faire connaitre a tous public l'interet de dev...          ...            \n",
       "\n",
       "  adr3 adrs_codepostal  libcom adrs_codeinsee dir_civilite siteweb  \\\n",
       "0  NaN           75014   PARIS          75114           PM     NaN   \n",
       "1  NaN           75013   PARIS          75113           PM     NaN   \n",
       "2  NaN           75006   PARIS          75106           PM     NaN   \n",
       "3  NaN           75012   PARIS          75112           PM     NaN   \n",
       "4  NaN           06150  CANNES          06029           PM     NaN   \n",
       "\n",
       "  observation position rup_mi              maj_time  \n",
       "0  W751085568        R    NaN  2013-07-10  07:33:24  \n",
       "1  W751184848        R    NaN  2013-07-16  07:30:17  \n",
       "2  W751188854        R    NaN  2013-09-23  09:55:18  \n",
       "3  W751100798        R    NaN  2013-09-25  09:27:16  \n",
       "4  W061004727        R    NaN  2013-12-02  12:02:35  \n",
       "\n",
       "[5 rows x 24 columns]"
      ]
     },
     "execution_count": 28,
     "metadata": {},
     "output_type": "execute_result"
    }
   ],
   "source": [
    "df_imp.head()"
   ]
  },
  {
   "cell_type": "markdown",
   "metadata": {},
   "source": [
    "- do these associaitons exist in both data sets?"
   ]
  },
  {
   "cell_type": "code",
   "execution_count": 53,
   "metadata": {},
   "outputs": [
    {
     "data": {
      "text/html": [
       "<div>\n",
       "<style scoped>\n",
       "    .dataframe tbody tr th:only-of-type {\n",
       "        vertical-align: middle;\n",
       "    }\n",
       "\n",
       "    .dataframe tbody tr th {\n",
       "        vertical-align: top;\n",
       "    }\n",
       "\n",
       "    .dataframe thead th {\n",
       "        text-align: right;\n",
       "    }\n",
       "</style>\n",
       "<table border=\"1\" class=\"dataframe\">\n",
       "  <thead>\n",
       "    <tr style=\"text-align: right;\">\n",
       "      <th></th>\n",
       "      <th>id</th>\n",
       "      <th>id_ex</th>\n",
       "      <th>siret</th>\n",
       "      <th>gestion</th>\n",
       "      <th>date_creat</th>\n",
       "      <th>date_publi</th>\n",
       "      <th>nature</th>\n",
       "      <th>groupement</th>\n",
       "      <th>titre</th>\n",
       "      <th>objet</th>\n",
       "      <th>...</th>\n",
       "      <th>adr3</th>\n",
       "      <th>adrs_codepostal</th>\n",
       "      <th>libcom</th>\n",
       "      <th>adrs_codeinsee</th>\n",
       "      <th>dir_civilite</th>\n",
       "      <th>siteweb</th>\n",
       "      <th>observation</th>\n",
       "      <th>position</th>\n",
       "      <th>rup_mi</th>\n",
       "      <th>maj_time</th>\n",
       "    </tr>\n",
       "  </thead>\n",
       "  <tbody>\n",
       "    <tr>\n",
       "      <th>1213324</th>\n",
       "      <td>335S0113100</td>\n",
       "      <td>0113100</td>\n",
       "      <td>NaN</td>\n",
       "      <td>335S</td>\n",
       "      <td>1958-03-19</td>\n",
       "      <td>1958-03-27</td>\n",
       "      <td>D</td>\n",
       "      <td>S</td>\n",
       "      <td>ASSOCIATION  COMMUNALE DE CHASSE AGREEE DE GOURS</td>\n",
       "      <td>NaN</td>\n",
       "      <td>...</td>\n",
       "      <td>NaN</td>\n",
       "      <td>33660</td>\n",
       "      <td>gours</td>\n",
       "      <td>33191</td>\n",
       "      <td>PM</td>\n",
       "      <td>NaN</td>\n",
       "      <td>W335007024</td>\n",
       "      <td>R</td>\n",
       "      <td>NaN</td>\n",
       "      <td>2019-06-27  06:21:25</td>\n",
       "    </tr>\n",
       "    <tr>\n",
       "      <th>1213325</th>\n",
       "      <td>052P5842</td>\n",
       "      <td>5842</td>\n",
       "      <td>NaN</td>\n",
       "      <td>052P</td>\n",
       "      <td>1996-07-10</td>\n",
       "      <td>1996-07-31</td>\n",
       "      <td>D</td>\n",
       "      <td>S</td>\n",
       "      <td>MANIFESTATIONS CULTURELLES PRINTEMPS DU LIVRE</td>\n",
       "      <td>FAVORISER LES RENCONTRES, LES ECHANGES DANS UN...</td>\n",
       "      <td>...</td>\n",
       "      <td>NaN</td>\n",
       "      <td>05400</td>\n",
       "      <td>VEYNES</td>\n",
       "      <td>00000</td>\n",
       "      <td>PM</td>\n",
       "      <td>NaN</td>\n",
       "      <td>W052007544</td>\n",
       "      <td>R</td>\n",
       "      <td>NaN</td>\n",
       "      <td>2019-06-27  06:58:33</td>\n",
       "    </tr>\n",
       "    <tr>\n",
       "      <th>1213326</th>\n",
       "      <td>751P00127896</td>\n",
       "      <td>00127896</td>\n",
       "      <td>NaN</td>\n",
       "      <td>751P</td>\n",
       "      <td>1996-11-20</td>\n",
       "      <td>1996-12-11</td>\n",
       "      <td>D</td>\n",
       "      <td>S</td>\n",
       "      <td>ASSOCIATION DE LOCATAIRES SAINT FARGEAU PLI SL...</td>\n",
       "      <td>organiser la défense des droits des aspiration...</td>\n",
       "      <td>...</td>\n",
       "      <td>NaN</td>\n",
       "      <td>75020</td>\n",
       "      <td>PARIS</td>\n",
       "      <td>75120</td>\n",
       "      <td>PM</td>\n",
       "      <td>NaN</td>\n",
       "      <td>W751127896</td>\n",
       "      <td>R</td>\n",
       "      <td>NaN</td>\n",
       "      <td>2019-06-27  06:21:19</td>\n",
       "    </tr>\n",
       "    <tr>\n",
       "      <th>1213327</th>\n",
       "      <td>9G2S9712002529</td>\n",
       "      <td>9712002529</td>\n",
       "      <td>NaN</td>\n",
       "      <td>9G2S</td>\n",
       "      <td>0001-01-01</td>\n",
       "      <td>0001-01-01</td>\n",
       "      <td>D</td>\n",
       "      <td>S</td>\n",
       "      <td>ASSOCIATION ACTION POUR LE PROGRES ET L'AVENIR...</td>\n",
       "      <td>Defendre les interets de la commune de petit c...</td>\n",
       "      <td>...</td>\n",
       "      <td>NaN</td>\n",
       "      <td>97131</td>\n",
       "      <td>PETIT CANAL</td>\n",
       "      <td>97119</td>\n",
       "      <td>PM</td>\n",
       "      <td>NaN</td>\n",
       "      <td>W9G2008797</td>\n",
       "      <td>R</td>\n",
       "      <td>NaN</td>\n",
       "      <td>2019-06-27  06:58:44</td>\n",
       "    </tr>\n",
       "    <tr>\n",
       "      <th>1213328</th>\n",
       "      <td>423P0423000058</td>\n",
       "      <td>0423000058</td>\n",
       "      <td>NaN</td>\n",
       "      <td>423P</td>\n",
       "      <td>0001-01-01</td>\n",
       "      <td>1992-07-01</td>\n",
       "      <td>D</td>\n",
       "      <td>S</td>\n",
       "      <td>ASSOCIATION DES LOCATAIRES DES IMMEUBLES RUES ...</td>\n",
       "      <td>Representer les locataires aupres de la societ...</td>\n",
       "      <td>...</td>\n",
       "      <td>NaN</td>\n",
       "      <td>42100</td>\n",
       "      <td>SAINT-ETIENNE</td>\n",
       "      <td>42218</td>\n",
       "      <td>PM</td>\n",
       "      <td>NaN</td>\n",
       "      <td>W423013302</td>\n",
       "      <td>R</td>\n",
       "      <td>NaN</td>\n",
       "      <td>2019-06-28  06:28:43</td>\n",
       "    </tr>\n",
       "  </tbody>\n",
       "</table>\n",
       "<p>5 rows × 24 columns</p>\n",
       "</div>"
      ],
      "text/plain": [
       "                     id       id_ex siret gestion  date_creat  date_publi  \\\n",
       "1213324     335S0113100     0113100   NaN    335S  1958-03-19  1958-03-27   \n",
       "1213325        052P5842        5842   NaN    052P  1996-07-10  1996-07-31   \n",
       "1213326    751P00127896    00127896   NaN    751P  1996-11-20  1996-12-11   \n",
       "1213327  9G2S9712002529  9712002529   NaN    9G2S  0001-01-01  0001-01-01   \n",
       "1213328  423P0423000058  0423000058   NaN    423P  0001-01-01  1992-07-01   \n",
       "\n",
       "        nature groupement                                              titre  \\\n",
       "1213324      D          S   ASSOCIATION  COMMUNALE DE CHASSE AGREEE DE GOURS   \n",
       "1213325      D          S      MANIFESTATIONS CULTURELLES PRINTEMPS DU LIVRE   \n",
       "1213326      D          S  ASSOCIATION DE LOCATAIRES SAINT FARGEAU PLI SL...   \n",
       "1213327      D          S  ASSOCIATION ACTION POUR LE PROGRES ET L'AVENIR...   \n",
       "1213328      D          S  ASSOCIATION DES LOCATAIRES DES IMMEUBLES RUES ...   \n",
       "\n",
       "                                                     objet  \\\n",
       "1213324                                                NaN   \n",
       "1213325  FAVORISER LES RENCONTRES, LES ECHANGES DANS UN...   \n",
       "1213326  organiser la défense des droits des aspiration...   \n",
       "1213327  Defendre les interets de la commune de petit c...   \n",
       "1213328  Representer les locataires aupres de la societ...   \n",
       "\n",
       "                 ...          adr3 adrs_codepostal         libcom  \\\n",
       "1213324          ...           NaN           33660          gours   \n",
       "1213325          ...           NaN           05400         VEYNES   \n",
       "1213326          ...           NaN           75020          PARIS   \n",
       "1213327          ...           NaN           97131    PETIT CANAL   \n",
       "1213328          ...           NaN           42100  SAINT-ETIENNE   \n",
       "\n",
       "        adrs_codeinsee dir_civilite siteweb observation position rup_mi  \\\n",
       "1213324          33191           PM     NaN  W335007024        R    NaN   \n",
       "1213325          00000           PM     NaN  W052007544        R    NaN   \n",
       "1213326          75120           PM     NaN  W751127896        R    NaN   \n",
       "1213327          97119           PM     NaN  W9G2008797        R    NaN   \n",
       "1213328          42218           PM     NaN  W423013302        R    NaN   \n",
       "\n",
       "                     maj_time  \n",
       "1213324  2019-06-27  06:21:25  \n",
       "1213325  2019-06-27  06:58:33  \n",
       "1213326  2019-06-27  06:21:19  \n",
       "1213327  2019-06-27  06:58:44  \n",
       "1213328  2019-06-28  06:28:43  \n",
       "\n",
       "[5 rows x 24 columns]"
      ]
     },
     "execution_count": 53,
     "metadata": {},
     "output_type": "execute_result"
    }
   ],
   "source": [
    "df_imp.tail()"
   ]
  },
  {
   "cell_type": "code",
   "execution_count": 54,
   "metadata": {},
   "outputs": [
    {
     "ename": "AttributeError",
     "evalue": "'DataFrame' object has no attribute 'id_ex'",
     "output_type": "error",
     "traceback": [
      "\u001b[1;31m---------------------------------------------------------------------------\u001b[0m",
      "\u001b[1;31mAttributeError\u001b[0m                            Traceback (most recent call last)",
      "\u001b[1;32m<ipython-input-54-a60fd2b05b2e>\u001b[0m in \u001b[0;36m<module>\u001b[1;34m\u001b[0m\n\u001b[1;32m----> 1\u001b[1;33m \u001b[0mdff\u001b[0m\u001b[1;33m.\u001b[0m\u001b[0mid_ex\u001b[0m\u001b[1;33m\u001b[0m\u001b[0m\n\u001b[0m",
      "\u001b[1;32mC:\\Anaconda3\\lib\\site-packages\\pandas\\core\\generic.py\u001b[0m in \u001b[0;36m__getattr__\u001b[1;34m(self, name)\u001b[0m\n\u001b[0;32m   4374\u001b[0m             \u001b[1;32mif\u001b[0m \u001b[0mself\u001b[0m\u001b[1;33m.\u001b[0m\u001b[0m_info_axis\u001b[0m\u001b[1;33m.\u001b[0m\u001b[0m_can_hold_identifiers_and_holds_name\u001b[0m\u001b[1;33m(\u001b[0m\u001b[0mname\u001b[0m\u001b[1;33m)\u001b[0m\u001b[1;33m:\u001b[0m\u001b[1;33m\u001b[0m\u001b[0m\n\u001b[0;32m   4375\u001b[0m                 \u001b[1;32mreturn\u001b[0m \u001b[0mself\u001b[0m\u001b[1;33m[\u001b[0m\u001b[0mname\u001b[0m\u001b[1;33m]\u001b[0m\u001b[1;33m\u001b[0m\u001b[0m\n\u001b[1;32m-> 4376\u001b[1;33m             \u001b[1;32mreturn\u001b[0m \u001b[0mobject\u001b[0m\u001b[1;33m.\u001b[0m\u001b[0m__getattribute__\u001b[0m\u001b[1;33m(\u001b[0m\u001b[0mself\u001b[0m\u001b[1;33m,\u001b[0m \u001b[0mname\u001b[0m\u001b[1;33m)\u001b[0m\u001b[1;33m\u001b[0m\u001b[0m\n\u001b[0m\u001b[0;32m   4377\u001b[0m \u001b[1;33m\u001b[0m\u001b[0m\n\u001b[0;32m   4378\u001b[0m     \u001b[1;32mdef\u001b[0m \u001b[0m__setattr__\u001b[0m\u001b[1;33m(\u001b[0m\u001b[0mself\u001b[0m\u001b[1;33m,\u001b[0m \u001b[0mname\u001b[0m\u001b[1;33m,\u001b[0m \u001b[0mvalue\u001b[0m\u001b[1;33m)\u001b[0m\u001b[1;33m:\u001b[0m\u001b[1;33m\u001b[0m\u001b[0m\n",
      "\u001b[1;31mAttributeError\u001b[0m: 'DataFrame' object has no attribute 'id_ex'"
     ]
    }
   ],
   "source": [
    "dff.id_ex"
   ]
  },
  {
   "cell_type": "code",
   "execution_count": 52,
   "metadata": {},
   "outputs": [
    {
     "name": "stdout",
     "output_type": "stream",
     "text": [
      "id\n",
      "id_ex\n",
      "siret\n",
      "gestion\n",
      "date_creat\n",
      "date_publi\n",
      "nature\n",
      "groupement\n",
      "titre\n",
      "objet\n",
      "objet_social1\n",
      "objet_social2\n",
      "adr1\n",
      "adr2\n",
      "adr3\n",
      "adrs_codepostal\n",
      "libcom\n",
      "adrs_codeinsee\n",
      "dir_civilite\n",
      "siteweb\n",
      "observation\n",
      "position\n",
      "rup_mi\n",
      "maj_time\n"
     ]
    }
   ],
   "source": [
    "for i in df_imp.columns:\n",
    "    print(i)"
   ]
  },
  {
   "cell_type": "code",
   "execution_count": null,
   "metadata": {},
   "outputs": [],
   "source": []
  },
  {
   "cell_type": "code",
   "execution_count": 29,
   "metadata": {},
   "outputs": [],
   "source": [
    "dff.to_csv('./../../data_processed/clean_data.csv', index=False)"
   ]
  },
  {
   "cell_type": "code",
   "execution_count": null,
   "metadata": {},
   "outputs": [],
   "source": []
  }
 ],
 "metadata": {
  "anaconda-cloud": {},
  "kernelspec": {
   "display_name": "Python [default]",
   "language": "python",
   "name": "python3"
  },
  "language_info": {
   "codemirror_mode": {
    "name": "ipython",
    "version": 3
   },
   "file_extension": ".py",
   "mimetype": "text/x-python",
   "name": "python",
   "nbconvert_exporter": "python",
   "pygments_lexer": "ipython3",
   "version": "3.5.5"
  }
 },
 "nbformat": 4,
 "nbformat_minor": 2
}
