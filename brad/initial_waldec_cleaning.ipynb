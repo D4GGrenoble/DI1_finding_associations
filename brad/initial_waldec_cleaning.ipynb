{
 "cells": [
  {
   "cell_type": "markdown",
   "metadata": {},
   "source": [
    "# DataInsights #1/session2\n",
    "\n",
    "- make a clean data set for volunteers to look at in second session\n",
    "\n",
    "This cleans the WALDEC data set from: https://www.data.gouv.fr/fr/datasets/repertoire-national-des-associations/"
   ]
  },
  {
   "cell_type": "markdown",
   "metadata": {},
   "source": [
    "#### how many lines does original csv have?\n",
    "\n",
    "I wonder how many we are missing?"
   ]
  },
  {
   "cell_type": "code",
   "execution_count": 1,
   "metadata": {},
   "outputs": [],
   "source": [
    "path = './../../data/rna_waldec_20191001/rna_waldec_20191001.csv'"
   ]
  },
  {
   "cell_type": "markdown",
   "metadata": {},
   "source": [
    "import csv\n",
    "\n",
    "with open(path) as csvfile:\n",
    "    reader = csv.DictReader(csvfile)\n",
    "    \n",
    "    len(list(reader))"
   ]
  },
  {
   "cell_type": "markdown",
   "metadata": {},
   "source": [
    "#### Load data with pandas"
   ]
  },
  {
   "cell_type": "code",
   "execution_count": 2,
   "metadata": {},
   "outputs": [],
   "source": [
    "import pandas as pd\n",
    "import numpy as np"
   ]
  },
  {
   "cell_type": "code",
   "execution_count": 3,
   "metadata": {},
   "outputs": [],
   "source": [
    "df = pd.read_csv(path, sep=';', error_bad_lines=False, engine='python')"
   ]
  },
  {
   "cell_type": "code",
   "execution_count": 4,
   "metadata": {},
   "outputs": [
    {
     "data": {
      "text/plain": [
       "(1733433, 39)"
      ]
     },
     "execution_count": 4,
     "metadata": {},
     "output_type": "execute_result"
    }
   ],
   "source": [
    "df.shape"
   ]
  },
  {
   "cell_type": "code",
   "execution_count": 5,
   "metadata": {},
   "outputs": [
    {
     "data": {
      "text/html": [
       "<div>\n",
       "<style scoped>\n",
       "    .dataframe tbody tr th:only-of-type {\n",
       "        vertical-align: middle;\n",
       "    }\n",
       "\n",
       "    .dataframe tbody tr th {\n",
       "        vertical-align: top;\n",
       "    }\n",
       "\n",
       "    .dataframe thead th {\n",
       "        text-align: right;\n",
       "    }\n",
       "</style>\n",
       "<table border=\"1\" class=\"dataframe\">\n",
       "  <thead>\n",
       "    <tr style=\"text-align: right;\">\n",
       "      <th></th>\n",
       "      <th>id</th>\n",
       "      <th>id_ex</th>\n",
       "      <th>siret</th>\n",
       "      <th>rup_mi</th>\n",
       "      <th>gestion</th>\n",
       "      <th>date_creat</th>\n",
       "      <th>date_decla</th>\n",
       "      <th>date_publi</th>\n",
       "      <th>date_disso</th>\n",
       "      <th>nature</th>\n",
       "      <th>...</th>\n",
       "      <th>adrg_distrib</th>\n",
       "      <th>adrg_codepostal</th>\n",
       "      <th>adrg_achemine</th>\n",
       "      <th>adrg_pays</th>\n",
       "      <th>dir_civilite</th>\n",
       "      <th>siteweb</th>\n",
       "      <th>publiweb</th>\n",
       "      <th>observation</th>\n",
       "      <th>position</th>\n",
       "      <th>maj_time</th>\n",
       "    </tr>\n",
       "  </thead>\n",
       "  <tbody>\n",
       "    <tr>\n",
       "      <th>0</th>\n",
       "      <td>W632007046</td>\n",
       "      <td>NaN</td>\n",
       "      <td>NaN</td>\n",
       "      <td>NaN</td>\n",
       "      <td>632P</td>\n",
       "      <td>2014-06-17</td>\n",
       "      <td>2015-01-21</td>\n",
       "      <td>2014-06-28</td>\n",
       "      <td>2015-01-20</td>\n",
       "      <td>D</td>\n",
       "      <td>...</td>\n",
       "      <td>NaN</td>\n",
       "      <td>63000</td>\n",
       "      <td>CLERMONT-FERRAND</td>\n",
       "      <td>FRANCE</td>\n",
       "      <td>PP</td>\n",
       "      <td>NaN</td>\n",
       "      <td>0.0</td>\n",
       "      <td>NaN</td>\n",
       "      <td>D</td>\n",
       "      <td>2015-02-09 12:51:34</td>\n",
       "    </tr>\n",
       "    <tr>\n",
       "      <th>1</th>\n",
       "      <td>W012000002</td>\n",
       "      <td>2/08825</td>\n",
       "      <td>NaN</td>\n",
       "      <td>NaN</td>\n",
       "      <td>691P</td>\n",
       "      <td>1983-10-10</td>\n",
       "      <td>2004-03-11</td>\n",
       "      <td>0001-01-01</td>\n",
       "      <td>0001-01-01</td>\n",
       "      <td>D</td>\n",
       "      <td>...</td>\n",
       "      <td>NaN</td>\n",
       "      <td>69100</td>\n",
       "      <td>villeurbanne</td>\n",
       "      <td>FRANCE</td>\n",
       "      <td>PM</td>\n",
       "      <td>NaN</td>\n",
       "      <td>1.0</td>\n",
       "      <td>NaN</td>\n",
       "      <td>A</td>\n",
       "      <td>2008-02-12 14:40:18</td>\n",
       "    </tr>\n",
       "    <tr>\n",
       "      <th>2</th>\n",
       "      <td>W012000005</td>\n",
       "      <td>0012011852</td>\n",
       "      <td>NaN</td>\n",
       "      <td>NaN</td>\n",
       "      <td>691P</td>\n",
       "      <td>2003-09-01</td>\n",
       "      <td>2005-01-25</td>\n",
       "      <td>0001-01-01</td>\n",
       "      <td>0001-01-01</td>\n",
       "      <td>D</td>\n",
       "      <td>...</td>\n",
       "      <td>NaN</td>\n",
       "      <td>69270</td>\n",
       "      <td>FONTAINE SUR SAONE</td>\n",
       "      <td>FRANCE</td>\n",
       "      <td>PM</td>\n",
       "      <td>NaN</td>\n",
       "      <td>1.0</td>\n",
       "      <td>NaN</td>\n",
       "      <td>A</td>\n",
       "      <td>2007-04-05 09:41:02</td>\n",
       "    </tr>\n",
       "  </tbody>\n",
       "</table>\n",
       "<p>3 rows × 39 columns</p>\n",
       "</div>"
      ],
      "text/plain": [
       "           id       id_ex siret rup_mi gestion  date_creat  date_decla  \\\n",
       "0  W632007046         NaN   NaN    NaN    632P  2014-06-17  2015-01-21   \n",
       "1  W012000002     2/08825   NaN    NaN    691P  1983-10-10  2004-03-11   \n",
       "2  W012000005  0012011852   NaN    NaN    691P  2003-09-01  2005-01-25   \n",
       "\n",
       "   date_publi  date_disso nature         ...          adrg_distrib  \\\n",
       "0  2014-06-28  2015-01-20      D         ...                   NaN   \n",
       "1  0001-01-01  0001-01-01      D         ...                   NaN   \n",
       "2  0001-01-01  0001-01-01      D         ...                   NaN   \n",
       "\n",
       "  adrg_codepostal       adrg_achemine adrg_pays dir_civilite siteweb publiweb  \\\n",
       "0           63000    CLERMONT-FERRAND    FRANCE           PP     NaN      0.0   \n",
       "1           69100        villeurbanne    FRANCE           PM     NaN      1.0   \n",
       "2           69270  FONTAINE SUR SAONE    FRANCE           PM     NaN      1.0   \n",
       "\n",
       "  observation position             maj_time  \n",
       "0         NaN        D  2015-02-09 12:51:34  \n",
       "1         NaN        A  2008-02-12 14:40:18  \n",
       "2         NaN        A  2007-04-05 09:41:02  \n",
       "\n",
       "[3 rows x 39 columns]"
      ]
     },
     "execution_count": 5,
     "metadata": {},
     "output_type": "execute_result"
    }
   ],
   "source": [
    "df.head(3)"
   ]
  },
  {
   "cell_type": "markdown",
   "metadata": {},
   "source": [
    "#### find proportion missing from each column"
   ]
  },
  {
   "cell_type": "code",
   "execution_count": 6,
   "metadata": {},
   "outputs": [
    {
     "data": {
      "text/html": [
       "<div>\n",
       "<style scoped>\n",
       "    .dataframe tbody tr th:only-of-type {\n",
       "        vertical-align: middle;\n",
       "    }\n",
       "\n",
       "    .dataframe tbody tr th {\n",
       "        vertical-align: top;\n",
       "    }\n",
       "\n",
       "    .dataframe thead th {\n",
       "        text-align: right;\n",
       "    }\n",
       "</style>\n",
       "<table border=\"1\" class=\"dataframe\">\n",
       "  <thead>\n",
       "    <tr style=\"text-align: right;\">\n",
       "      <th></th>\n",
       "      <th>0</th>\n",
       "    </tr>\n",
       "  </thead>\n",
       "  <tbody>\n",
       "    <tr>\n",
       "      <th>adrs_repetition</th>\n",
       "      <td>0.998324</td>\n",
       "    </tr>\n",
       "    <tr>\n",
       "      <th>rup_mi</th>\n",
       "      <td>0.996639</td>\n",
       "    </tr>\n",
       "    <tr>\n",
       "      <th>siret</th>\n",
       "      <td>0.981590</td>\n",
       "    </tr>\n",
       "    <tr>\n",
       "      <th>adrg_declarant</th>\n",
       "      <td>0.976880</td>\n",
       "    </tr>\n",
       "    <tr>\n",
       "      <th>siteweb</th>\n",
       "      <td>0.968481</td>\n",
       "    </tr>\n",
       "    <tr>\n",
       "      <th>adrg_complemgeo</th>\n",
       "      <td>0.948997</td>\n",
       "    </tr>\n",
       "    <tr>\n",
       "      <th>adrg_distrib</th>\n",
       "      <td>0.906085</td>\n",
       "    </tr>\n",
       "    <tr>\n",
       "      <th>observation</th>\n",
       "      <td>0.783862</td>\n",
       "    </tr>\n",
       "    <tr>\n",
       "      <th>adrg_complemid</th>\n",
       "      <td>0.733536</td>\n",
       "    </tr>\n",
       "    <tr>\n",
       "      <th>adrs_complement</th>\n",
       "      <td>0.662397</td>\n",
       "    </tr>\n",
       "    <tr>\n",
       "      <th>id_ex</th>\n",
       "      <td>0.503703</td>\n",
       "    </tr>\n",
       "    <tr>\n",
       "      <th>adrs_numvoie</th>\n",
       "      <td>0.344374</td>\n",
       "    </tr>\n",
       "    <tr>\n",
       "      <th>adrs_typevoie</th>\n",
       "      <td>0.267636</td>\n",
       "    </tr>\n",
       "    <tr>\n",
       "      <th>adrg_libvoie</th>\n",
       "      <td>0.200967</td>\n",
       "    </tr>\n",
       "    <tr>\n",
       "      <th>adrs_libvoie</th>\n",
       "      <td>0.185381</td>\n",
       "    </tr>\n",
       "    <tr>\n",
       "      <th>adrs_distrib</th>\n",
       "      <td>0.019843</td>\n",
       "    </tr>\n",
       "    <tr>\n",
       "      <th>adrg_achemine</th>\n",
       "      <td>0.001288</td>\n",
       "    </tr>\n",
       "    <tr>\n",
       "      <th>adrg_codepostal</th>\n",
       "      <td>0.001221</td>\n",
       "    </tr>\n",
       "    <tr>\n",
       "      <th>adrs_libcommune</th>\n",
       "      <td>0.000627</td>\n",
       "    </tr>\n",
       "    <tr>\n",
       "      <th>adrg_pays</th>\n",
       "      <td>0.000539</td>\n",
       "    </tr>\n",
       "  </tbody>\n",
       "</table>\n",
       "</div>"
      ],
      "text/plain": [
       "                        0\n",
       "adrs_repetition  0.998324\n",
       "rup_mi           0.996639\n",
       "siret            0.981590\n",
       "adrg_declarant   0.976880\n",
       "siteweb          0.968481\n",
       "adrg_complemgeo  0.948997\n",
       "adrg_distrib     0.906085\n",
       "observation      0.783862\n",
       "adrg_complemid   0.733536\n",
       "adrs_complement  0.662397\n",
       "id_ex            0.503703\n",
       "adrs_numvoie     0.344374\n",
       "adrs_typevoie    0.267636\n",
       "adrg_libvoie     0.200967\n",
       "adrs_libvoie     0.185381\n",
       "adrs_distrib     0.019843\n",
       "adrg_achemine    0.001288\n",
       "adrg_codepostal  0.001221\n",
       "adrs_libcommune  0.000627\n",
       "adrg_pays        0.000539"
      ]
     },
     "execution_count": 6,
     "metadata": {},
     "output_type": "execute_result"
    }
   ],
   "source": [
    "pd.DataFrame(df.isnull().sum()/df.shape[0]).sort_values(by=0, ascending=False).head(20)"
   ]
  },
  {
   "cell_type": "markdown",
   "metadata": {},
   "source": [
    "#### dropcolumns that are not of use"
   ]
  },
  {
   "cell_type": "markdown",
   "metadata": {},
   "source": [
    "There are many missing values in many columns:"
   ]
  },
  {
   "cell_type": "code",
   "execution_count": 7,
   "metadata": {},
   "outputs": [],
   "source": [
    "cols_lots_missing_values = [\n",
    "#     'adrs_repetition',\n",
    "    'rup_mi',\n",
    "    'siret',\n",
    "#     'adrg_declarant',\n",
    "    'siteweb',\n",
    "#     'adrg_complemgeo',\n",
    "#     'adrg_distrib',\n",
    "]"
   ]
  },
  {
   "cell_type": "markdown",
   "metadata": {},
   "source": [
    "Some columns look non-useful:"
   ]
  },
  {
   "cell_type": "code",
   "execution_count": 8,
   "metadata": {},
   "outputs": [],
   "source": [
    "cols_notinteresting = [\n",
    "    'observation', # this seems to be notes about the admin on the database\n",
    "    'id_ex', # this is an old ref, 50% are missing, there is a newer one 'id'\n",
    "    'date_decla', # we have date created which will do, same for col below\n",
    "    'date_publi',\n",
    "    'gestion', #where the associations were recored, presumably online/prefecture.\n",
    "    'publiweb', # can publish on web or not\n",
    "    'maj_time', # time aded to database\n",
    "]\n"
   ]
  },
  {
   "cell_type": "code",
   "execution_count": 9,
   "metadata": {},
   "outputs": [],
   "source": [
    "cols_todrop = cols_lots_missing_values + cols_notinteresting\n",
    "dff = df.drop(cols_todrop,axis=1)"
   ]
  },
  {
   "cell_type": "code",
   "execution_count": 10,
   "metadata": {},
   "outputs": [
    {
     "data": {
      "text/plain": [
       "(1733433, 29)"
      ]
     },
     "execution_count": 10,
     "metadata": {},
     "output_type": "execute_result"
    }
   ],
   "source": [
    "dff.shape"
   ]
  },
  {
   "cell_type": "code",
   "execution_count": 11,
   "metadata": {},
   "outputs": [
    {
     "data": {
      "text/plain": [
       "['rup_mi',\n",
       " 'siret',\n",
       " 'siteweb',\n",
       " 'observation',\n",
       " 'id_ex',\n",
       " 'date_decla',\n",
       " 'date_publi',\n",
       " 'gestion',\n",
       " 'publiweb',\n",
       " 'maj_time']"
      ]
     },
     "execution_count": 11,
     "metadata": {},
     "output_type": "execute_result"
    }
   ],
   "source": [
    "cols_todrop"
   ]
  },
  {
   "cell_type": "code",
   "execution_count": 12,
   "metadata": {},
   "outputs": [
    {
     "name": "stdout",
     "output_type": "stream",
     "text": [
      "id\n",
      "date_creat\n",
      "date_disso\n",
      "nature\n",
      "groupement\n",
      "titre\n",
      "titre_court\n",
      "objet\n",
      "objet_social1\n",
      "objet_social2\n",
      "adrs_complement\n",
      "adrs_numvoie\n",
      "adrs_repetition\n",
      "adrs_typevoie\n",
      "adrs_libvoie\n",
      "adrs_distrib\n",
      "adrs_codeinsee\n",
      "adrs_codepostal\n",
      "adrs_libcommune\n",
      "adrg_declarant\n",
      "adrg_complemid\n",
      "adrg_complemgeo\n",
      "adrg_libvoie\n",
      "adrg_distrib\n",
      "adrg_codepostal\n",
      "adrg_achemine\n",
      "adrg_pays\n",
      "dir_civilite\n",
      "position\n"
     ]
    }
   ],
   "source": [
    "for  i in dff.columns:\n",
    "    print(i)"
   ]
  },
  {
   "cell_type": "code",
   "execution_count": null,
   "metadata": {},
   "outputs": [],
   "source": []
  },
  {
   "cell_type": "markdown",
   "metadata": {},
   "source": [
    "#### merge table of objet_social1, and objet_social2 so have text description"
   ]
  },
  {
   "cell_type": "code",
   "execution_count": 13,
   "metadata": {},
   "outputs": [],
   "source": [
    "objet_desc = pd.read_excel('./../../data/Fichier_RNA_-_Nomenclature_Complete_Objet_Social_.xlsx')"
   ]
  },
  {
   "cell_type": "markdown",
   "metadata": {},
   "source": [
    "There are some address values in the objet columns in the waldoc data set. Clean those and replace with Nans now."
   ]
  },
  {
   "cell_type": "code",
   "execution_count": 14,
   "metadata": {},
   "outputs": [],
   "source": [
    "poss_values = objet_desc['Code Objet Social'].values\n",
    "\n",
    "def filter_func(x):\n",
    "    \"\"\n",
    "    value = np.nan\n",
    "    if len(str(x)) == 6:\n",
    "        value=x\n",
    "    return(value)\n",
    "\n",
    "# filter_func(11111)\n",
    "\n",
    "dff.objet_social1 = dff.objet_social1.apply(filter_func)\n",
    "dff.objet_social2 = dff.objet_social2.apply(filter_func)"
   ]
  },
  {
   "cell_type": "code",
   "execution_count": 15,
   "metadata": {},
   "outputs": [
    {
     "data": {
      "text/plain": [
       "dtype('int64')"
      ]
     },
     "execution_count": 15,
     "metadata": {},
     "output_type": "execute_result"
    }
   ],
   "source": [
    "objet_desc['Code Objet Social'].dtype"
   ]
  },
  {
   "cell_type": "code",
   "execution_count": 16,
   "metadata": {},
   "outputs": [
    {
     "data": {
      "text/plain": [
       "113"
      ]
     },
     "execution_count": 16,
     "metadata": {},
     "output_type": "execute_result"
    }
   ],
   "source": [
    "dff.objet_social1.isnull().sum()"
   ]
  },
  {
   "cell_type": "markdown",
   "metadata": {},
   "source": [
    "There are some missing values in objet_social1 & 2. Dropping these rows as wont merge otherwise. We lose about 300 associaitons."
   ]
  },
  {
   "cell_type": "code",
   "execution_count": 17,
   "metadata": {},
   "outputs": [
    {
     "data": {
      "text/plain": [
       "(1733433, 29)"
      ]
     },
     "execution_count": 17,
     "metadata": {},
     "output_type": "execute_result"
    }
   ],
   "source": [
    "dff.shape"
   ]
  },
  {
   "cell_type": "code",
   "execution_count": 18,
   "metadata": {},
   "outputs": [
    {
     "data": {
      "text/plain": [
       "(1733101, 29)"
      ]
     },
     "execution_count": 18,
     "metadata": {},
     "output_type": "execute_result"
    }
   ],
   "source": [
    "dff.dropna(subset=['objet_social1','objet_social2'],inplace=True)\n",
    "\n",
    "dff.shape"
   ]
  },
  {
   "cell_type": "code",
   "execution_count": 19,
   "metadata": {},
   "outputs": [],
   "source": [
    "erroneous_values = ['40 000','023àà(','011.75']\n",
    "\n",
    "dff.drop(index = dff[dff.objet_social2.isin( erroneous_values)].index, inplace=True)"
   ]
  },
  {
   "cell_type": "code",
   "execution_count": 20,
   "metadata": {},
   "outputs": [
    {
     "data": {
      "text/plain": [
       "(1733098, 29)"
      ]
     },
     "execution_count": 20,
     "metadata": {},
     "output_type": "execute_result"
    }
   ],
   "source": [
    "dff.shape"
   ]
  },
  {
   "cell_type": "code",
   "execution_count": 21,
   "metadata": {},
   "outputs": [],
   "source": [
    "dff.objet_social1 = dff.objet_social1.astype(int)\n",
    "dff.objet_social2 = dff.objet_social2.astype(int)"
   ]
  },
  {
   "cell_type": "code",
   "execution_count": 22,
   "metadata": {},
   "outputs": [
    {
     "data": {
      "text/plain": [
       "(1733098, 30)"
      ]
     },
     "execution_count": 22,
     "metadata": {},
     "output_type": "execute_result"
    }
   ],
   "source": [
    "dff = dff.merge(objet_desc, how='left', left_on='objet_social1', right_on='Code Objet Social')\n",
    "dff.drop(columns=['Code Objet Social'],inplace=True)\n",
    "dff.rename({'Objet Social':'objet_social1_desc'},axis=1, inplace=True)\n",
    "dff.shape"
   ]
  },
  {
   "cell_type": "code",
   "execution_count": 23,
   "metadata": {},
   "outputs": [
    {
     "data": {
      "text/plain": [
       "(1733098, 31)"
      ]
     },
     "execution_count": 23,
     "metadata": {},
     "output_type": "execute_result"
    }
   ],
   "source": [
    "dff = dff.merge(objet_desc, how='left', left_on='objet_social2', right_on='Code Objet Social')\n",
    "dff.drop(columns=['Code Objet Social'],inplace=True)\n",
    "dff.rename({'Objet Social':'objet_social2_desc'}, axis=1, inplace=True)\n",
    "dff.shape"
   ]
  },
  {
   "cell_type": "code",
   "execution_count": null,
   "metadata": {},
   "outputs": [],
   "source": []
  },
  {
   "cell_type": "markdown",
   "metadata": {},
   "source": [
    "#### create flag for association no longer active \n"
   ]
  },
  {
   "cell_type": "code",
   "execution_count": 24,
   "metadata": {},
   "outputs": [],
   "source": [
    "dff['association_active'] = 0\n",
    "dff.loc[dff.position == 'A', 'association_active'] = 1"
   ]
  },
  {
   "cell_type": "code",
   "execution_count": 25,
   "metadata": {},
   "outputs": [
    {
     "data": {
      "text/plain": [
       "1    1531245\n",
       "0     201853\n",
       "Name: association_active, dtype: int64"
      ]
     },
     "execution_count": 25,
     "metadata": {},
     "output_type": "execute_result"
    }
   ],
   "source": [
    "dff.association_active.value_counts()"
   ]
  },
  {
   "cell_type": "markdown",
   "metadata": {},
   "source": [
    "#### check through columns and check how many lines are messed up with wrong types of data\n",
    "\n",
    "If there are not too many then we just delete them i think.\n",
    "- code_postal, len 5\n",
    "- objet_social1, len 6"
   ]
  },
  {
   "cell_type": "code",
   "execution_count": null,
   "metadata": {},
   "outputs": [],
   "source": []
  },
  {
   "cell_type": "markdown",
   "metadata": {},
   "source": [
    "#### clean adress fields"
   ]
  },
  {
   "cell_type": "code",
   "execution_count": null,
   "metadata": {},
   "outputs": [],
   "source": []
  },
  {
   "cell_type": "markdown",
   "metadata": {},
   "source": [
    "## export data to csv\n",
    "\n",
    "- put columns in nice order"
   ]
  },
  {
   "cell_type": "code",
   "execution_count": 26,
   "metadata": {},
   "outputs": [],
   "source": [
    "dff.rename({'Objet Social_x':'objet_social2_desc'},axis=1, inplace=True)"
   ]
  },
  {
   "cell_type": "code",
   "execution_count": 27,
   "metadata": {},
   "outputs": [
    {
     "data": {
      "text/html": [
       "<div>\n",
       "<style scoped>\n",
       "    .dataframe tbody tr th:only-of-type {\n",
       "        vertical-align: middle;\n",
       "    }\n",
       "\n",
       "    .dataframe tbody tr th {\n",
       "        vertical-align: top;\n",
       "    }\n",
       "\n",
       "    .dataframe thead th {\n",
       "        text-align: right;\n",
       "    }\n",
       "</style>\n",
       "<table border=\"1\" class=\"dataframe\">\n",
       "  <thead>\n",
       "    <tr style=\"text-align: right;\">\n",
       "      <th></th>\n",
       "      <th>id</th>\n",
       "      <th>date_creat</th>\n",
       "      <th>date_disso</th>\n",
       "      <th>nature</th>\n",
       "      <th>groupement</th>\n",
       "      <th>titre</th>\n",
       "      <th>titre_court</th>\n",
       "      <th>objet</th>\n",
       "      <th>objet_social1</th>\n",
       "      <th>objet_social2</th>\n",
       "      <th>...</th>\n",
       "      <th>adrg_libvoie</th>\n",
       "      <th>adrg_distrib</th>\n",
       "      <th>adrg_codepostal</th>\n",
       "      <th>adrg_achemine</th>\n",
       "      <th>adrg_pays</th>\n",
       "      <th>dir_civilite</th>\n",
       "      <th>position</th>\n",
       "      <th>objet_social1_desc</th>\n",
       "      <th>objet_social2_desc</th>\n",
       "      <th>association_active</th>\n",
       "    </tr>\n",
       "  </thead>\n",
       "  <tbody>\n",
       "    <tr>\n",
       "      <th>0</th>\n",
       "      <td>W632007046</td>\n",
       "      <td>2014-06-17</td>\n",
       "      <td>2015-01-20</td>\n",
       "      <td>D</td>\n",
       "      <td>S</td>\n",
       "      <td>BLACK OWL</td>\n",
       "      <td>BLACK OWL</td>\n",
       "      <td>promouvoir la scène indépendante musicale \"psy...</td>\n",
       "      <td>6030</td>\n",
       "      <td>0</td>\n",
       "      <td>...</td>\n",
       "      <td>35  RUE PASCAL</td>\n",
       "      <td>NaN</td>\n",
       "      <td>63000</td>\n",
       "      <td>CLERMONT-FERRAND</td>\n",
       "      <td>FRANCE</td>\n",
       "      <td>PP</td>\n",
       "      <td>D</td>\n",
       "      <td>chant choral, musique</td>\n",
       "      <td>NaN</td>\n",
       "      <td>0</td>\n",
       "    </tr>\n",
       "    <tr>\n",
       "      <th>1</th>\n",
       "      <td>W012000002</td>\n",
       "      <td>1983-10-10</td>\n",
       "      <td>0001-01-01</td>\n",
       "      <td>D</td>\n",
       "      <td>S</td>\n",
       "      <td>ARIADNE</td>\n",
       "      <td>ARIADNE</td>\n",
       "      <td>Favoriser le développement d'une compagnie thé...</td>\n",
       "      <td>6070</td>\n",
       "      <td>6070</td>\n",
       "      <td>...</td>\n",
       "      <td>39 rue Courteline</td>\n",
       "      <td>NaN</td>\n",
       "      <td>69100</td>\n",
       "      <td>villeurbanne</td>\n",
       "      <td>FRANCE</td>\n",
       "      <td>PM</td>\n",
       "      <td>A</td>\n",
       "      <td>théâtre, marionnettes, cirque, spectacles de v...</td>\n",
       "      <td>théâtre, marionnettes, cirque, spectacles de v...</td>\n",
       "      <td>1</td>\n",
       "    </tr>\n",
       "    <tr>\n",
       "      <th>2</th>\n",
       "      <td>W012000005</td>\n",
       "      <td>2003-09-01</td>\n",
       "      <td>0001-01-01</td>\n",
       "      <td>D</td>\n",
       "      <td>S</td>\n",
       "      <td>UNITE FRANCAISE D'INTERVENTION EN CATASTROPHE ...</td>\n",
       "      <td>UNITE FRANCAISE D'INTERVENTION EN ...</td>\n",
       "      <td>Intervenir lors de catastrophes naturelles sur...</td>\n",
       "      <td>20000</td>\n",
       "      <td>20000</td>\n",
       "      <td>...</td>\n",
       "      <td>18 rue Ampère</td>\n",
       "      <td>NaN</td>\n",
       "      <td>69270</td>\n",
       "      <td>FONTAINE SUR SAONE</td>\n",
       "      <td>FRANCE</td>\n",
       "      <td>PM</td>\n",
       "      <td>A</td>\n",
       "      <td>associations caritatives, humanitaires, aide a...</td>\n",
       "      <td>associations caritatives, humanitaires, aide a...</td>\n",
       "      <td>1</td>\n",
       "    </tr>\n",
       "    <tr>\n",
       "      <th>3</th>\n",
       "      <td>W012000006</td>\n",
       "      <td>1999-02-11</td>\n",
       "      <td>2008-02-27</td>\n",
       "      <td>D</td>\n",
       "      <td>S</td>\n",
       "      <td>TRIADE BASS</td>\n",
       "      <td>TRIADE BASSE</td>\n",
       "      <td>la promotion et la diffusion de la création ar...</td>\n",
       "      <td>6000</td>\n",
       "      <td>6000</td>\n",
       "      <td>...</td>\n",
       "      <td>44 QUAI CLEMENCEAU</td>\n",
       "      <td>NaN</td>\n",
       "      <td>69300</td>\n",
       "      <td>CALUIRE ET CUIRE</td>\n",
       "      <td>FRANCE</td>\n",
       "      <td>PM</td>\n",
       "      <td>D</td>\n",
       "      <td>culture, pratiques d\\’activités artistiques, c...</td>\n",
       "      <td>culture, pratiques d\\’activités artistiques, c...</td>\n",
       "      <td>0</td>\n",
       "    </tr>\n",
       "    <tr>\n",
       "      <th>4</th>\n",
       "      <td>W033002617</td>\n",
       "      <td>2008-05-19</td>\n",
       "      <td>0001-01-01</td>\n",
       "      <td>D</td>\n",
       "      <td>S</td>\n",
       "      <td>ASSOCIATION MAYOTTE FOOTBALL CLUB DE BELLERIVE...</td>\n",
       "      <td>MAYOTTE FOOTBALL CLUB BSA</td>\n",
       "      <td>pratiquer et développer le football; organisat...</td>\n",
       "      <td>11075</td>\n",
       "      <td>0</td>\n",
       "      <td>...</td>\n",
       "      <td>8  RUE EMMANUEL CHABRIER</td>\n",
       "      <td>NaN</td>\n",
       "      <td>03700</td>\n",
       "      <td>BELLERIVE-SUR-ALLIER</td>\n",
       "      <td>FRANCE</td>\n",
       "      <td>PM</td>\n",
       "      <td>A</td>\n",
       "      <td>Football (football, futsal)</td>\n",
       "      <td>NaN</td>\n",
       "      <td>1</td>\n",
       "    </tr>\n",
       "  </tbody>\n",
       "</table>\n",
       "<p>5 rows × 32 columns</p>\n",
       "</div>"
      ],
      "text/plain": [
       "           id  date_creat  date_disso nature groupement  \\\n",
       "0  W632007046  2014-06-17  2015-01-20      D          S   \n",
       "1  W012000002  1983-10-10  0001-01-01      D          S   \n",
       "2  W012000005  2003-09-01  0001-01-01      D          S   \n",
       "3  W012000006  1999-02-11  2008-02-27      D          S   \n",
       "4  W033002617  2008-05-19  0001-01-01      D          S   \n",
       "\n",
       "                                               titre  \\\n",
       "0                                          BLACK OWL   \n",
       "1                                            ARIADNE   \n",
       "2  UNITE FRANCAISE D'INTERVENTION EN CATASTROPHE ...   \n",
       "3                                        TRIADE BASS   \n",
       "4  ASSOCIATION MAYOTTE FOOTBALL CLUB DE BELLERIVE...   \n",
       "\n",
       "                             titre_court  \\\n",
       "0                              BLACK OWL   \n",
       "1                                ARIADNE   \n",
       "2  UNITE FRANCAISE D'INTERVENTION EN ...   \n",
       "3                           TRIADE BASSE   \n",
       "4              MAYOTTE FOOTBALL CLUB BSA   \n",
       "\n",
       "                                               objet  objet_social1  \\\n",
       "0  promouvoir la scène indépendante musicale \"psy...           6030   \n",
       "1  Favoriser le développement d'une compagnie thé...           6070   \n",
       "2  Intervenir lors de catastrophes naturelles sur...          20000   \n",
       "3  la promotion et la diffusion de la création ar...           6000   \n",
       "4  pratiquer et développer le football; organisat...          11075   \n",
       "\n",
       "   objet_social2        ...                      adrg_libvoie adrg_distrib  \\\n",
       "0              0        ...                    35  RUE PASCAL          NaN   \n",
       "1           6070        ...                 39 rue Courteline          NaN   \n",
       "2          20000        ...                     18 rue Ampère          NaN   \n",
       "3           6000        ...                44 QUAI CLEMENCEAU          NaN   \n",
       "4              0        ...          8  RUE EMMANUEL CHABRIER          NaN   \n",
       "\n",
       "  adrg_codepostal         adrg_achemine adrg_pays dir_civilite position  \\\n",
       "0           63000      CLERMONT-FERRAND    FRANCE           PP        D   \n",
       "1           69100          villeurbanne    FRANCE           PM        A   \n",
       "2           69270    FONTAINE SUR SAONE    FRANCE           PM        A   \n",
       "3           69300      CALUIRE ET CUIRE    FRANCE           PM        D   \n",
       "4           03700  BELLERIVE-SUR-ALLIER    FRANCE           PM        A   \n",
       "\n",
       "                                  objet_social1_desc  \\\n",
       "0                             chant choral, musique    \n",
       "1  théâtre, marionnettes, cirque, spectacles de v...   \n",
       "2  associations caritatives, humanitaires, aide a...   \n",
       "3  culture, pratiques d\\’activités artistiques, c...   \n",
       "4                       Football (football, futsal)    \n",
       "\n",
       "                                  objet_social2_desc association_active  \n",
       "0                                                NaN                  0  \n",
       "1  théâtre, marionnettes, cirque, spectacles de v...                  1  \n",
       "2  associations caritatives, humanitaires, aide a...                  1  \n",
       "3  culture, pratiques d\\’activités artistiques, c...                  0  \n",
       "4                                                NaN                  1  \n",
       "\n",
       "[5 rows x 32 columns]"
      ]
     },
     "execution_count": 27,
     "metadata": {},
     "output_type": "execute_result"
    }
   ],
   "source": [
    "dff.head()"
   ]
  },
  {
   "cell_type": "code",
   "execution_count": 28,
   "metadata": {},
   "outputs": [
    {
     "data": {
      "text/plain": [
       "Index(['id', 'date_creat', 'date_disso', 'nature', 'groupement', 'titre',\n",
       "       'titre_court', 'objet', 'objet_social1', 'objet_social2',\n",
       "       'adrs_complement', 'adrs_numvoie', 'adrs_repetition', 'adrs_typevoie',\n",
       "       'adrs_libvoie', 'adrs_distrib', 'adrs_codeinsee', 'adrs_codepostal',\n",
       "       'adrs_libcommune', 'adrg_declarant', 'adrg_complemid',\n",
       "       'adrg_complemgeo', 'adrg_libvoie', 'adrg_distrib', 'adrg_codepostal',\n",
       "       'adrg_achemine', 'adrg_pays', 'dir_civilite', 'position',\n",
       "       'objet_social1_desc', 'objet_social2_desc', 'association_active'],\n",
       "      dtype='object')"
      ]
     },
     "execution_count": 28,
     "metadata": {},
     "output_type": "execute_result"
    }
   ],
   "source": [
    "dff.columns"
   ]
  },
  {
   "cell_type": "code",
   "execution_count": null,
   "metadata": {},
   "outputs": [],
   "source": []
  },
  {
   "cell_type": "code",
   "execution_count": 29,
   "metadata": {},
   "outputs": [],
   "source": [
    "dff.to_csv('./../../data_processed/clean_data.csv', index=False)"
   ]
  },
  {
   "cell_type": "code",
   "execution_count": null,
   "metadata": {},
   "outputs": [],
   "source": []
  }
 ],
 "metadata": {
  "anaconda-cloud": {},
  "kernelspec": {
   "display_name": "Python [default]",
   "language": "python",
   "name": "python3"
  },
  "language_info": {
   "codemirror_mode": {
    "name": "ipython",
    "version": 3
   },
   "file_extension": ".py",
   "mimetype": "text/x-python",
   "name": "python",
   "nbconvert_exporter": "python",
   "pygments_lexer": "ipython3",
   "version": "3.5.5"
  }
 },
 "nbformat": 4,
 "nbformat_minor": 2
}
