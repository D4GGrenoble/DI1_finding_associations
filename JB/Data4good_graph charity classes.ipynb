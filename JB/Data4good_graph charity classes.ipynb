<!DOCTYPE HTML>
<html>

<head>
    <meta charset="utf-8">

    <title>Jupyter Notebook</title>
    <link id="favicon" rel="shortcut icon" type="image/x-icon" href="/static/base/images/favicon-notebook.ico?v=9e5fb7f8501d94094806320e718be6b3">
    <meta http-equiv="X-UA-Compatible" content="IE=edge" />
    <link rel="stylesheet" href="/static/components/jquery-ui/themes/smoothness/jquery-ui.min.css?v=3c2a865c832a1322285c55c6ed99abb2" type="text/css" />
    <link rel="stylesheet" href="/static/components/jquery-typeahead/dist/jquery.typeahead.min.css?v=7afb461de36accb1aa133a1710f5bc56" type="text/css" />
    <meta name="viewport" content="width=device-width, initial-scale=1.0">
    
    


<script type="text/javascript" src="/static/components/MathJax/MathJax.js?config=TeX-AMS-MML_HTMLorMML-full,Safe&delayStartupUntil=configured" charset="utf-8"></script>

<script type="text/javascript">
// MathJax disabled, set as null to distinguish from *missing* MathJax,
// where it will be undefined, and should prompt a dialog later.
window.mathjax_url = "/static/components/MathJax/MathJax.js";
</script>

<link rel="stylesheet" href="/static/components/bootstrap-tour/build/css/bootstrap-tour.min.css?v=d0b3c2fce6056a2ddd5a4513762a94c4" type="text/css" />
<link rel="stylesheet" href="/static/components/codemirror/lib/codemirror.css?v=288352df06a67ee35003b0981da414ac">


    <link rel="stylesheet" href="/static/style/style.min.css?v=e91a43337d7c294cc9fab2938fa723b3" type="text/css"/>
    

<link rel="stylesheet" href="/static/notebook/css/override.css?v=e6f18013b8771987812e992b38ec3318" type="text/css" />
<link rel="stylesheet" href=""  id='kernel-css'                             type="text/css" />


    <link rel="stylesheet" href="/custom/custom.css" type="text/css" />
    <script src="/static/components/es6-promise/promise.min.js?v=f004a16cb856e0ff11781d01ec5ca8fe" type="text/javascript" charset="utf-8"></script>
    <script src="/static/components/react/react.production.min.js?v=34f96ffc962a7deecc83037ccb582b58" type="text/javascript"></script>
    <script src="/static/components/react/react-dom.production.min.js?v=b14d91fb641317cda38dbc9dbf985ab4" type="text/javascript"></script>
    <script src="/static/components/create-react-class/index.js?v=94feb9971ce6d26211729abc43f96cd2" type="text/javascript"></script>
    <script src="/static/components/requirejs/require.js?v=951f856e81496aaeec2e71a1c2c0d51f" type="text/javascript" charset="utf-8"></script>
    <script>
      require.config({
          
          urlArgs: "v=20191210082954",
          
          baseUrl: '/static/',
          paths: {
            'auth/js/main': 'auth/js/main.min',
            custom : '/custom',
            nbextensions : '/nbextensions',
            kernelspecs : '/kernelspecs',
            underscore : 'components/underscore/underscore-min',
            backbone : 'components/backbone/backbone-min',
            jed: 'components/jed/jed',
            jquery: 'components/jquery/jquery.min',
            json: 'components/requirejs-plugins/src/json',
            text: 'components/requirejs-text/text',
            bootstrap: 'components/bootstrap/dist/js/bootstrap.min',
            bootstraptour: 'components/bootstrap-tour/build/js/bootstrap-tour.min',
            'jquery-ui': 'components/jquery-ui/jquery-ui.min',
            moment: 'components/moment/min/moment-with-locales',
            codemirror: 'components/codemirror',
            termjs: 'components/xterm.js/xterm',
            typeahead: 'components/jquery-typeahead/dist/jquery.typeahead.min',
          },
          map: { // for backward compatibility
              "*": {
                  "jqueryui": "jquery-ui",
              }
          },
          shim: {
            typeahead: {
              deps: ["jquery"],
              exports: "typeahead"
            },
            underscore: {
              exports: '_'
            },
            backbone: {
              deps: ["underscore", "jquery"],
              exports: "Backbone"
            },
            bootstrap: {
              deps: ["jquery"],
              exports: "bootstrap"
            },
            bootstraptour: {
              deps: ["bootstrap"],
              exports: "Tour"
            },
            "jquery-ui": {
              deps: ["jquery"],
              exports: "$"
            }
          },
          waitSeconds: 30,
      });

      require.config({
          map: {
              '*':{
                'contents': 'services/contents',
              }
          }
      });

      // error-catching custom.js shim.
      define("custom", function (require, exports, module) {
          try {
              var custom = require('custom/custom');
              console.debug('loaded custom.js');
              return custom;
          } catch (e) {
              console.error("error loading custom.js", e);
              return {};
          }
      })

    document.nbjs_translations = {"domain": "nbjs", "locale_data": {"nbjs": {"": {"domain": "nbjs"}}}};
    document.documentElement.lang = navigator.language.toLowerCase();
    </script>

    
    

</head>

<body class="notebook_app "
 


  
    data-jupyter-api-token="c56de3dc893cec049879d8f68a80703a4d3a13b1164b4fc5"
  
 
data-base-url="/"
data-ws-url=""
data-notebook-name="Data4good_graph%20charity%20classes.ipynb"
data-notebook-path="Data4good_graph%20charity%20classes.ipynb"

dir="ltr">

<noscript>
    <div id='noscript'>
      Jupyter Notebook nécessite JavaScript<br>
      Merci de l'activer pour continuer.
  </div>
</noscript>

<div id="header" role="navigation" aria-label="Top Menu">
  <div id="header-container" class="container">
  <div id="ipython_notebook" class="nav navbar-brand"><a href="/tree?token=c56de3dc893cec049879d8f68a80703a4d3a13b1164b4fc5" title='tableau de bord'>
      <img src='/static/base/images/logo.png?v=641991992878ee24c6f3826e81054a0f' alt='Jupyter Notebook'/>
  </a></div>

  


<span id="save_widget" class="save_widget">
    <span id="notebook_name" class="filename"></span>
    <span class="checkpoint_status"></span>
    <span class="autosave_status"></span>
</span>


  

<span id="kernel_logo_widget">
  
  <img class="current_kernel_logo" alt="Current Kernel Logo" src="data:image/gif;base64,R0lGODlhAQABAIAAAAAAAP///yH5BAEAAAAALAAAAAABAAEAAAIBRAA7"/>
  
</span>


  
  
  
  

    <span id="login_widget">
      
        <button id="logout" class="btn btn-sm navbar-btn">Se déconnecter</button>
      
    </span>

  

  
  
  </div>
  <div class="header-bar"></div>

  
<div id="menubar-container" class="container">
<div id="menubar">
    <div id="menus" class="navbar navbar-default" role="navigation">
        <div class="container-fluid">
            <button type="button" class="btn btn-default navbar-btn navbar-toggle" data-toggle="collapse" data-target=".navbar-collapse">
              <i class="fa fa-bars"></i>
              <span class="navbar-text">Menu</span>
            </button>
            <p id="kernel_indicator" class="navbar-text indicator_area">
              <span class="kernel_indicator_name">Noyau</span>
              <i id="kernel_indicator_icon"></i>
            </p>
            <i id="readonly-indicator" class="navbar-text" title='Ce notebook est en lecture seule'>
                <span class="fa-stack">
                    <i class="fa fa-save fa-stack-1x"></i>
                    <i class="fa fa-ban fa-stack-2x text-danger"></i>
                </span>
            </i>
            <i id="modal_indicator" class="navbar-text"></i>
            <span id="notification_area"></span>
            <div class="navbar-collapse collapse">
              <ul class="nav navbar-nav">
                <li class="dropdown"><a href="#" id="filelink" aria-haspopup="true" aria-controls="file_menu class="dropdown-toggle" data-toggle="dropdown">Fichier</a>
                    <ul id="file_menu" class="dropdown-menu" role="menu" aria-labelledby="filelink">
                        <li id="new_notebook" class="dropdown-submenu" role="none">
                            <a href="#" role="menuitem">Nouveau Notebook<span class="sr-only">Toggle Dropdown</span></a>
                            <ul class="dropdown-menu" id="menu-new-notebook-submenu"></ul>
                        </li>
                        <li id="open_notebook" role="none"
                            title="Ouvre une nouvelle fenêtre de tableau de bord">
                            <a href="#" role="menuitem">Ouvrir...</a></li>
                        <!-- <hr/> -->
                        <li class="divider" role="none"></li>
                        <li id="copy_notebook" role="none"
                            title="Ouvrir une copie du contenu de ce notebook et démarrer un nouveau noyau">
                            <a href="#" role="menuitem">Faire une copie...</a></li>
                        <li id="save_notebook_as" role="none"
                            title="Save a copy of the notebook's contents and start a new kernel">
                            <a href="#" role="menuitem">Save as...</a></li>
                        <li id="rename_notebook" role="none"><a href="#" role="menuitem">Renommer...</a></li>
                        <li id="save_checkpoint" role="none"><a href="#" role="menuitem">Créer une nouvelle sauvegarde</a></li>
                        <!-- <hr/> -->
                        <li class="divider" role="none"></li>
                        <li id="restore_checkpoint" class="dropdown-submenu" role="none"><a href="#" role="menuitem">Restaurer la sauvegarde<span class="sr-only">Toggle Dropdown</span></a>
                          <ul class="dropdown-menu">
                            <li><a href="#"></a></li>
                            <li><a href="#"></a></li>
                            <li><a href="#"></a></li>
                            <li><a href="#"></a></li>
                            <li><a href="#"></a></li>
                          </ul>
                        </li>
                        <li class="divider" role="none"></li>
                        <li id="print_preview" role="none"><a href="#" role="menuitem">Imprimer l'aperçu</a></li>
                        <li class="dropdown-submenu" role="none"><a href="#" role="menuitem">Télécharger au format<span class="sr-only">Toggle Dropdown</span></a>
                            <ul id="download_menu" class="dropdown-menu">
                                
                                <li id="download_asciidoc">
                                    <a href="#">AsciiDoc (.asciidoc)</a>
                                </li>
                                
                                <li id="download_html">
                                    <a href="#">HTML (.html)</a>
                                </li>
                                
                                <li id="download_latex">
                                    <a href="#">LaTeX (.tex)</a>
                                </li>
                                
                                <li id="download_markdown">
                                    <a href="#">Markdown (.md)</a>
                                </li>
                                
                                <li id="download_notebook">
                                    <a href="#">Notebook (.ipynb)</a>
                                </li>
                                
                                <li id="download_pdf">
                                    <a href="#">PDF via LaTeX (.pdf)</a>
                                </li>
                                
                                <li id="download_rst">
                                    <a href="#">reST (.rst)</a>
                                </li>
                                
                                <li id="download_script">
                                    <a href="#">Script (.txt)</a>
                                </li>
                                
                                <li id="download_slides">
                                    <a href="#">Reveal.js slides (.slides.html)</a>
                                </li>
                                
                            </ul>
                        </li>
                        <li class="dropdown-submenu hidden" role="none"><a href="#" role="menuitem">Déployer en tant que</a>
                            <ul id="deploy_menu" class="dropdown-menu"></ul>
                        </li>
                        <li class="divider" role="none"></li>
                        <li id="trust_notebook" role="none"
                            title="Faire confiance à la sortie de ce notebook">
                            <a href="#" role="menuitem">Faire confiance au notebook</a></li>
                        <li class="divider" role="none"></li>
                        <li id="close_and_halt" role="none"
                            title="Arrêter le noyau de ce notebook et fermer cette fenêtre">
                            <a href="#" role="menuitem">Fermer et arrêter</a></li>
                    </ul>
                </li>

                <li class="dropdown"><a href="#" class="dropdown-toggle" id="editlink" data-toggle="dropdown" aria-haspopup="true" aria-controls="edit_menu">Édition</a>
                    <ul id="edit_menu" class="dropdown-menu" role="menu" aria-labelledby="editlink">
                        <li id="cut_cell" role="none"><a href="#" role="menuitem">Couper les cellules</a></li>
                        <li id="copy_cell" role="none"><a href="#" role="menuitem">Copier les cellules</a></li>
                        <li id="paste_cell_above" class="disabled" role="none"><a href="#" role="menuitem" aria-disabled="true">Coller les cellules avant</a></li>
                        <li id="paste_cell_below" class="disabled" role="none"><a href="#" role="menuitem" aria-disabled="true">Coller les cellules après</a></li>
                        <li id="paste_cell_replace" class="disabled" role="none"><a href="#" role="menuitem" aria-disabled="true">Coller les cellules &amp; remplacer</a></li>
                        <li id="delete_cell" role="none"><a href="#" role="menuitem">Supprimer les cellules</a></li>
                        <li id="undelete_cell" class="disabled" role="none"><a href="#" role="menuitem" aria-disabled="true">Annuler la suppression des cellules</a></li>
                        <li class="divider" role="none"></li>
                        <li id="split_cell" role="none"><a href="#" role="menuitem">Diviser la cellule</a></li>
                        <li id="merge_cell_above" role="none"><a href="#" role="menuitem">Fusionner avec la cellule précédente</a></li>
                        <li id="merge_cell_below" role="none"><a href="#" role="menuitem">Fusionner avec la cellule suivante</a></li>
                        <li class="divider" role="none"></li>
                        <li id="move_cell_up" role="none"><a href="#" role="menuitem">Déplacer la cellule vers le haut</a></li>
                        <li id="move_cell_down" role="none"><a href="#" role="menuitem">Déplacer la cellule vers le bas</a></li>
                        <li class="divider" role="none"></li>
                        <li id="edit_nb_metadata" role="none"><a href="#" role="menuitem">Éditer les méta-données du notebook</a></li>
                        <li class="divider" role="none"></li>
                        <li id="find_and_replace" role="none"><a href="#" role="menuitem"> Rechercher et remplacer </a></li>
                        <li class="divider" role="none"></li>
                        <li id="cut_cell_attachments" role="none"><a href="#" role="menuitem">Couper les pièces-Jointes de la cellule</a></li>
                        <li id="copy_cell_attachments" role="none"><a href="#" role="menuitem">Copier les pièces-jointes de la cellule</a></li>
                        <li id="paste_cell_attachments"  class="disabled" role="none"><a href="#" role="menuitem" aria-disabled="true">Coller les pièces-jointes de la cellule</a></li>
                        <li class="divider" role="none"></li>
                        <li id="insert_image" class="disabled" role="none"><a href="#" role="menuitem" aria-disabled="true">  Insérer une image </a></li>
                    </ul>
                </li>
                <li class="dropdown"><a href="#" class="dropdown-toggle" id="viewlink" data-toggle="dropdown" aria-haspopup="true" aria-controls="view_menu">Affichage</a>
                    <ul id="view_menu" class="dropdown-menu" role="menu" aria-labelledby="viewlink">
                        <li id="toggle_header" role="none"
                            title="Afficher/Masquer le logo et le titre du notebook (au-dessus de la barre de menu)">
                            <a href="#" role="menuitem">Afficher/Masquer l'en-tête</a>
                        </li>
                        <li id="toggle_toolbar" role="none"
                            title="Afficher/Masquer les icônes d'action (en-dessous de la barre de menu)">
                            <a href="#" role="menuitem">Afficher/Masquer la barre d'outils</a>
                        </li>
                        <li id="toggle_line_numbers" role="none"
                            title="Afficher/Masquer les numéros de ligne dans les cellules">
                            <a href="#" role="menuitem">Afficher/Masquer les numéros de ligne</a>
                        </li>
                        <li id="menu-cell-toolbar" class="dropdown-submenu" role="none">
                            <a href="#" role="menuitem">Barre d'outil de cellule</a>
                            <ul class="dropdown-menu" id="menu-cell-toolbar-submenu"></ul>
                        </li>
                    </ul>
                </li>
                <li class="dropdown"><a href="#" class="dropdown-toggle" id="insertlink" data-toggle="dropdown" aria-haspopup="true" aria-controls="insert_menu">Insérer</a>
                    <ul id="insert_menu" class="dropdown-menu" role="menu" aria-labelledby="insertlink">
                        <li id="insert_cell_above" role="none"
                            title="Insérer une cellule de code vide avant de la cellule active">
                            <a href="#" role="menuitem">Insérer une cellule avant</a></li>
                        <li id="insert_cell_below" role="none"
                            title="Insérer une cellule de code vide après la cellule active">
                            <a href="#" role="menuitem">Insérer une cellule après</a></li>
                    </ul>
                </li>
                <li class="dropdown"><a href="#" class="dropdown-toggle" data-toggle="dropdown">Cellule</a>
                    <ul id="cell_menu" class="dropdown-menu">
                        <li id="run_cell" title="Exécuter cette cellule, et déplacer le curseur à la suivante">
                            <a href="#">Exécuter les cellules</a></li>
                        <li id="run_cell_select_below" title="Exécuter cette cellule, sélectionner la suivante">
                            <a href="#">Exécuter les cellules et sélectionner la suivante</a></li>
                        <li id="run_cell_insert_below" title="Exécuter la cellule et insérer à la suite">
                            <a href="#">Exécuter les cellules et insérer après</a></li>
                        <li id="run_all_cells" title="Exécuter toutes les cellules du notebook">
                            <a href="#">Exécuter tout</a></li>
                        <li id="run_all_cells_above" title="Exécuter toutes les cellules avant celle-ci (non incluse)">
                            <a href="#">Exécuter toutes les précédentes</a></li>
                        <li id="run_all_cells_below" title="Exécuter cette cellule et toutes les suivantes">
                            <a href="#">Exécuter toutes les suivantes</a></li>
                        <li class="divider"></li>
                        <li id="change_cell_type" class="dropdown-submenu"
                            title="Toutes les cellules dans le notebook ont un type de cellule. Par défaut, les nouvelles cellules sont de type 'Code'">
                            <a href="#">Type de cellule</a>
                            <ul class="dropdown-menu">
                              <li id="to_code"
                                  title="Le contenu sera envoyé au noyau pour exécution, et la sortie sera affichée dans le pied de cellule">
                                  <a href="#">Code</a></li>
                              <li id="to_markdown"
                                  title="Le contenu sera rendu en tant que HTML afin de servir de texte explicatif">
                                  <a href="#">Markdown</a></li>
                              <li id="to_raw"
                                  title="Le contenu passera par nbconvert qui ne l'altèrera pas">
                                  <a href="#">Texte Brut (pour NBConvert)</a></li>
                            </ul>
                        </li>
                        <li class="divider"></li>
                        <li id="current_outputs" class="dropdown-submenu"><a href="#">Sorties actuelles</a>
                            <ul class="dropdown-menu">
                                <li id="toggle_current_output"
                                    title="Masquer/Afficher la sortie de la cellule actuelle">
                                    <a href="#">Afficher/Masquer</a>
                                </li>
                                <li id="toggle_current_output_scroll"
                                    title="Faire défiler la sortie de la cellule actuelle">
                                    <a href="#">Activer/Désactiver le défilement</a>
                                </li>
                                <li id="clear_current_output"
                                    title="Effacer la sortie de la cellule actuelle">
                                    <a href="#">Effacer</a>
                                </li>
                            </ul>
                        </li>
                        <li id="all_outputs" class="dropdown-submenu"><a href="#">Toute la sortie</a>
                            <ul class="dropdown-menu">
                                <li id="toggle_all_output"
                                    title="Afficher/Masquer la sortie de toutes les cellules">
                                    <a href="#">Afficher/Masquer</a>
                                </li>
                                <li id="toggle_all_output_scroll"
                                    title="Faire défiler la sortie de toutes les cellules">
                                    <a href="#">Activer/Désactiver le défilement</a>
                                </li>
                                <li id="clear_all_output"
                                    title="Effacer la sortie de toutes les cellules">
                                    <a href="#">Effacer</a>
                                </li>
                            </ul>
                        </li>
                    </ul>
                </li>
                <li class="dropdown"><a href="#" class="dropdown-toggle" data-toggle="dropdown">Noyau</a>
                    <ul id="kernel_menu" class="dropdown-menu">
                        <li id="int_kernel"
                            title="Envoyer l'interruption clavier (CTRL-C) au noyau">
                            <a href="#">Interrompre</a>
                        </li>
                        <li id="restart_kernel"
                            title="Redémarrer le noyau">
                            <a href="#">Redémarrer</a>
                        </li>
                        <li id="restart_clear_output"
                            title="Redémarrer le noyau et effacer toutes les sorties">
                            <a href="#">Redémarrer  &amp; effacer les sorties</a>
                        </li>
                        <li id="restart_run_all"
                            title="Redémarrer le noyau et ré-exécuter le noteboook">
                            <a href="#">Redémarrer &amp; tout exécuter</a>
                        </li>
                        <li id="reconnect_kernel"
                            title="Reconnecter au noyau">
                            <a href="#">Reconnecter</a>
                        </li>
                        <li id="shutdown_kernel"
                            title="Shutdown the Kernel">
                            <a href="#">Arrêter</a>
                        </li>
                        <li class="divider"></li>
                        <li id="menu-change-kernel" class="dropdown-submenu">
                            <a href="#">Changer de noyau</a>
                            <ul class="dropdown-menu" id="menu-change-kernel-submenu"></ul>
                        </li>
                    </ul>
                </li>
                <li class="dropdown"><a href="#" class="dropdown-toggle" data-toggle="dropdown">Aide</a>
                    <ul  id="help_menu" class="dropdown-menu">
                        
                        <li id="notebook_tour" title="Une rapide visite de l'interface utilisateur du notebook"><a href="#">Visite de l'interface utilisateur</a></li>
                        <li id="keyboard_shortcuts" title="Ouvre une infobulle listant tous les raccourcis clavier"><a href="#">Raccourcis clavier</a></li>
                        <li id="edit_keyboard_shortcuts" title="Ouvre une boîte de dialogue permettant de modifier les raccourcis clavier"><a href="#">Editer les raccourcis clavier</a></li>
                        <li class="divider"></li>
                        

						
                        
                            
                                <li><a rel="noreferrer" href="http://nbviewer.jupyter.org/github/ipython/ipython/blob/3.x/examples/Notebook/Index.ipynb" target="_blank" title="S&#39;ouvre dans une nouvelle fenêtre">
                                
                                    <i class="fa fa-external-link menu-icon pull-right"></i>
                                

                                Aide notebook
                                </a></li>
                            
                                <li><a rel="noreferrer" href="https://help.github.com/articles/markdown-basics/" target="_blank" title="S&#39;ouvre dans une nouvelle fenêtre">
                                
                                    <i class="fa fa-external-link menu-icon pull-right"></i>
                                

                                Markdown
                                </a></li>
                            
                            
                        
                        <li class="divider"></li>
                        <li title="À propos de Jupyter Notebook"><a id="notebook_about" href="#">À propos</a></li>
                        
                    </ul>
                </li>
              </ul>
            </div>
        </div>
    </div>
</div>

<div id="maintoolbar" class="navbar">
  <div class="toolbar-inner navbar-inner navbar-nobg">
    <div id="maintoolbar-container" class="container"></div>
  </div>
</div>
</div>

<div class="lower-header-bar"></div>

</div>

<div id="site">


<div id="ipython-main-app">
    <div id="notebook_panel">
        <div id="notebook"></div>
        <div id='tooltip' class='ipython_tooltip' style='display:none'></div>
    </div>
</div>



</div>



<div id="pager">
    <div id="pager-contents">
        <div id="pager-container" class="container"></div>
    </div>
    <div id='pager-button-area'></div>
</div>






<script type="text/javascript">
    sys_info = {"notebook_version": "6.0.1", "notebook_path": "/home/jbb/anaconda3/lib/python3.7/site-packages/notebook", "commit_source": "", "commit_hash": "", "sys_version": "3.7.3 | packaged by conda-forge | (default, Jul  1 2019, 21:52:21) \n[GCC 7.3.0]", "sys_executable": "/home/jbb/anaconda3/bin/python", "sys_platform": "linux", "platform": "Linux-4.15.0-72-generic-x86_64-with-debian-buster-sid", "os_name": "posix", "default_encoding": "UTF-8"};
</script>

<script src="/static/components/text-encoding/lib/encoding.js?v=d5bb0fc9ffeff7d98a69bb83daa51052" charset="utf-8"></script>

<script src="/static/notebook/js/main.min.js?v=1bc4ae6ca8730320ff059b16de698691" type="text/javascript" charset="utf-8"></script>



<script type='text/javascript'>
  function _remove_token_from_url() {
    if (window.location.search.length <= 1) {
      return;
    }
    var search_parameters = window.location.search.slice(1).split('&');
    for (var i = 0; i < search_parameters.length; i++) {
      if (search_parameters[i].split('=')[0] === 'token') {
        // remote token from search parameters
        search_parameters.splice(i, 1);
        var new_search = '';
        if (search_parameters.length) {
          new_search = '?' + search_parameters.join('&');
        }
        var new_url = window.location.origin + 
                      window.location.pathname + 
                      new_search + 
                      window.location.hash;
        window.history.replaceState({}, "", new_url);
        return;
      }
    }
  }
  _remove_token_from_url();
</script>
</body>

</html>