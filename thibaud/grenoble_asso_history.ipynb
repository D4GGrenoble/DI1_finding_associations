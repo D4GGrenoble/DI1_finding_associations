{
 "cells": [
  {
   "cell_type": "code",
   "execution_count": null,
   "metadata": {},
   "outputs": [],
   "source": [
    "RAW_CSV = 'clean_data_small.csv'"
   ]
  },
  {
   "cell_type": "code",
   "execution_count": 1,
   "metadata": {},
   "outputs": [],
   "source": [
    "import pandas as pd\n",
    "import matplotlib.pyplot as plt\n",
    "import seaborn as sns\n",
    "import numpy as np"
   ]
  },
  {
   "cell_type": "code",
   "execution_count": null,
   "metadata": {},
   "outputs": [],
   "source": [
    "df_raw = pd.read_csv('clean_data_small.csv', usecols=['id', 'date_creat', 'nature', 'groupement', 'titre', 'titre_court', 'objet', 'objet_social1', 'adrg_codepostal'])\n",
    "df_raw['departement'] = df_raw['adrg_codepostal'].astype(str).str[:2]\n",
    "df_i = df_raw[df_raw.departement == '38']\n",
    "df_i.to_csv('asso_isere.csv', header=True)"
   ]
  },
  {
   "cell_type": "code",
   "execution_count": 16,
   "metadata": {},
   "outputs": [
    {
     "data": {
      "text/html": [
       "<div>\n",
       "<style scoped>\n",
       "    .dataframe tbody tr th:only-of-type {\n",
       "        vertical-align: middle;\n",
       "    }\n",
       "\n",
       "    .dataframe tbody tr th {\n",
       "        vertical-align: top;\n",
       "    }\n",
       "\n",
       "    .dataframe thead th {\n",
       "        text-align: right;\n",
       "    }\n",
       "</style>\n",
       "<table border=\"1\" class=\"dataframe\">\n",
       "  <thead>\n",
       "    <tr style=\"text-align: right;\">\n",
       "      <th></th>\n",
       "      <th>Unnamed: 0</th>\n",
       "      <th>id</th>\n",
       "      <th>date_creat</th>\n",
       "      <th>nature</th>\n",
       "      <th>groupement</th>\n",
       "      <th>titre</th>\n",
       "      <th>titre_court</th>\n",
       "      <th>objet</th>\n",
       "      <th>objet_social1</th>\n",
       "      <th>adrg_codepostal</th>\n",
       "      <th>departement</th>\n",
       "    </tr>\n",
       "  </thead>\n",
       "  <tbody>\n",
       "    <tr>\n",
       "      <th>0</th>\n",
       "      <td>232</td>\n",
       "      <td>W381005836</td>\n",
       "      <td>1969-05-02</td>\n",
       "      <td>D</td>\n",
       "      <td>S</td>\n",
       "      <td>FEDERATION NATIONALE DES ACCIDENTES DU TRAVAIL...</td>\n",
       "      <td>F.N..A.T.H.</td>\n",
       "      <td>amélioration du sort des victimes d'accidents ...</td>\n",
       "      <td>17055</td>\n",
       "      <td>38160.0</td>\n",
       "      <td>38</td>\n",
       "    </tr>\n",
       "    <tr>\n",
       "      <th>1</th>\n",
       "      <td>279</td>\n",
       "      <td>W383000183</td>\n",
       "      <td>1999-03-09</td>\n",
       "      <td>D</td>\n",
       "      <td>S</td>\n",
       "      <td>TRACTO'DAK</td>\n",
       "      <td>TRACTO'DAK</td>\n",
       "      <td>PORTER SECOURS AUX PAYS DU TIER MONDE</td>\n",
       "      <td>20000</td>\n",
       "      <td>38150.0</td>\n",
       "      <td>38</td>\n",
       "    </tr>\n",
       "    <tr>\n",
       "      <th>2</th>\n",
       "      <td>726</td>\n",
       "      <td>W381007536</td>\n",
       "      <td>2009-02-18</td>\n",
       "      <td>D</td>\n",
       "      <td>S</td>\n",
       "      <td>L'OREILLE INTERNE</td>\n",
       "      <td>L'OREILLE INTERNE</td>\n",
       "      <td>promotion du jazz et des musiques actuelles</td>\n",
       "      <td>6030</td>\n",
       "      <td>38100.0</td>\n",
       "      <td>38</td>\n",
       "    </tr>\n",
       "    <tr>\n",
       "      <th>3</th>\n",
       "      <td>925</td>\n",
       "      <td>W383008518</td>\n",
       "      <td>2019-05-06</td>\n",
       "      <td>D</td>\n",
       "      <td>S</td>\n",
       "      <td>ANB COURSES</td>\n",
       "      <td>ANB COURSES</td>\n",
       "      <td>participer aux courses automobiles de rallye e...</td>\n",
       "      <td>11160</td>\n",
       "      <td>38200.0</td>\n",
       "      <td>38</td>\n",
       "    </tr>\n",
       "    <tr>\n",
       "      <th>4</th>\n",
       "      <td>1079</td>\n",
       "      <td>W381010836</td>\n",
       "      <td>2010-11-19</td>\n",
       "      <td>D</td>\n",
       "      <td>S</td>\n",
       "      <td>JARDINS FAMILIAUX RENAGEOIS</td>\n",
       "      <td>JARDINS FAMILIAUX RENAGEOIS</td>\n",
       "      <td>promotion et développement de la culture des j...</td>\n",
       "      <td>7070</td>\n",
       "      <td>38140.0</td>\n",
       "      <td>38</td>\n",
       "    </tr>\n",
       "  </tbody>\n",
       "</table>\n",
       "</div>"
      ],
      "text/plain": [
       "   Unnamed: 0          id  date_creat nature groupement  \\\n",
       "0         232  W381005836  1969-05-02      D          S   \n",
       "1         279  W383000183  1999-03-09      D          S   \n",
       "2         726  W381007536  2009-02-18      D          S   \n",
       "3         925  W383008518  2019-05-06      D          S   \n",
       "4        1079  W381010836  2010-11-19      D          S   \n",
       "\n",
       "                                               titre  \\\n",
       "0  FEDERATION NATIONALE DES ACCIDENTES DU TRAVAIL...   \n",
       "1                                         TRACTO'DAK   \n",
       "2                                  L'OREILLE INTERNE   \n",
       "3                                        ANB COURSES   \n",
       "4                        JARDINS FAMILIAUX RENAGEOIS   \n",
       "\n",
       "                   titre_court  \\\n",
       "0                  F.N..A.T.H.   \n",
       "1                   TRACTO'DAK   \n",
       "2            L'OREILLE INTERNE   \n",
       "3                  ANB COURSES   \n",
       "4  JARDINS FAMILIAUX RENAGEOIS   \n",
       "\n",
       "                                               objet  objet_social1  \\\n",
       "0  amélioration du sort des victimes d'accidents ...          17055   \n",
       "1              PORTER SECOURS AUX PAYS DU TIER MONDE          20000   \n",
       "2        promotion du jazz et des musiques actuelles           6030   \n",
       "3  participer aux courses automobiles de rallye e...          11160   \n",
       "4  promotion et développement de la culture des j...           7070   \n",
       "\n",
       "   adrg_codepostal  departement  \n",
       "0          38160.0           38  \n",
       "1          38150.0           38  \n",
       "2          38100.0           38  \n",
       "3          38200.0           38  \n",
       "4          38140.0           38  "
      ]
     },
     "execution_count": 16,
     "metadata": {},
     "output_type": "execute_result"
    }
   ],
   "source": [
    "df_i = pd.read_csv('asso_isere.csv')\n",
    "df_i.head(5)"
   ]
  },
  {
   "cell_type": "code",
   "execution_count": 17,
   "metadata": {},
   "outputs": [
    {
     "name": "stdout",
     "output_type": "stream",
     "text": [
      "<class 'pandas.core.frame.DataFrame'>\n",
      "RangeIndex: 29672 entries, 0 to 29671\n",
      "Data columns (total 11 columns):\n",
      "Unnamed: 0         29672 non-null int64\n",
      "id                 29672 non-null object\n",
      "date_creat         29672 non-null object\n",
      "nature             29672 non-null object\n",
      "groupement         29672 non-null object\n",
      "titre              29672 non-null object\n",
      "titre_court        29670 non-null object\n",
      "objet              29672 non-null object\n",
      "objet_social1      29672 non-null int64\n",
      "adrg_codepostal    29672 non-null float64\n",
      "departement        29672 non-null int64\n",
      "dtypes: float64(1), int64(3), object(7)\n",
      "memory usage: 2.5+ MB\n"
     ]
    }
   ],
   "source": [
    "df_i.info()"
   ]
  },
  {
   "cell_type": "markdown",
   "metadata": {},
   "source": [
    "Select the associations based in Grenoble and add a parameter for the creation year"
   ]
  },
  {
   "cell_type": "code",
   "execution_count": 6,
   "metadata": {},
   "outputs": [
    {
     "data": {
      "text/html": [
       "<div>\n",
       "<style scoped>\n",
       "    .dataframe tbody tr th:only-of-type {\n",
       "        vertical-align: middle;\n",
       "    }\n",
       "\n",
       "    .dataframe tbody tr th {\n",
       "        vertical-align: top;\n",
       "    }\n",
       "\n",
       "    .dataframe thead th {\n",
       "        text-align: right;\n",
       "    }\n",
       "</style>\n",
       "<table border=\"1\" class=\"dataframe\">\n",
       "  <thead>\n",
       "    <tr style=\"text-align: right;\">\n",
       "      <th></th>\n",
       "      <th>Unnamed: 0</th>\n",
       "      <th>id</th>\n",
       "      <th>date_creat</th>\n",
       "      <th>nature</th>\n",
       "      <th>groupement</th>\n",
       "      <th>titre</th>\n",
       "      <th>titre_court</th>\n",
       "      <th>objet</th>\n",
       "      <th>objet_social1</th>\n",
       "      <th>adrg_codepostal</th>\n",
       "      <th>departement</th>\n",
       "    </tr>\n",
       "  </thead>\n",
       "  <tbody>\n",
       "    <tr>\n",
       "      <th>2</th>\n",
       "      <td>726</td>\n",
       "      <td>W381007536</td>\n",
       "      <td>2009-02-18</td>\n",
       "      <td>D</td>\n",
       "      <td>S</td>\n",
       "      <td>L'OREILLE INTERNE</td>\n",
       "      <td>L'OREILLE INTERNE</td>\n",
       "      <td>promotion du jazz et des musiques actuelles</td>\n",
       "      <td>6030</td>\n",
       "      <td>38100</td>\n",
       "      <td>38</td>\n",
       "    </tr>\n",
       "    <tr>\n",
       "      <th>6</th>\n",
       "      <td>1166</td>\n",
       "      <td>W381004646</td>\n",
       "      <td>1992-11-16</td>\n",
       "      <td>D</td>\n",
       "      <td>S</td>\n",
       "      <td>PHOEBUS, CENTRE INTER-EUROPEEN DE RECHERCHE CU...</td>\n",
       "      <td>PHOEBUS</td>\n",
       "      <td>développement des relations inter-européennes ...</td>\n",
       "      <td>9050</td>\n",
       "      <td>38000</td>\n",
       "      <td>38</td>\n",
       "    </tr>\n",
       "  </tbody>\n",
       "</table>\n",
       "</div>"
      ],
      "text/plain": [
       "   Unnamed: 0          id  date_creat nature groupement  \\\n",
       "2         726  W381007536  2009-02-18      D          S   \n",
       "6        1166  W381004646  1992-11-16      D          S   \n",
       "\n",
       "                                               titre        titre_court  \\\n",
       "2                                  L'OREILLE INTERNE  L'OREILLE INTERNE   \n",
       "6  PHOEBUS, CENTRE INTER-EUROPEEN DE RECHERCHE CU...            PHOEBUS   \n",
       "\n",
       "                                               objet  objet_social1  \\\n",
       "2        promotion du jazz et des musiques actuelles           6030   \n",
       "6  développement des relations inter-européennes ...           9050   \n",
       "\n",
       "   adrg_codepostal  departement  \n",
       "2            38100           38  \n",
       "6            38000           38  "
      ]
     },
     "execution_count": 6,
     "metadata": {},
     "output_type": "execute_result"
    }
   ],
   "source": [
    "df_i.adrg_codepostal = df_i.adrg_codepostal.astype(int)\n",
    "df_g = df_i[df_i.adrg_codepostal.isin([38000,38100])]\n",
    "df_g = df_g.assign(annee_creat=df_g['date_creat'].astype(str).str[:4])\n",
    "df_g.head(2)"
   ]
  },
  {
   "cell_type": "code",
   "execution_count": 7,
   "metadata": {
    "scrolled": true
   },
   "outputs": [
    {
     "name": "stdout",
     "output_type": "stream",
     "text": [
      "<class 'pandas.core.frame.DataFrame'>\n",
      "Int64Index: 4427 entries, 2 to 29670\n",
      "Data columns (total 11 columns):\n",
      "Unnamed: 0         4427 non-null int64\n",
      "id                 4427 non-null object\n",
      "date_creat         4427 non-null object\n",
      "nature             4427 non-null object\n",
      "groupement         4427 non-null object\n",
      "titre              4427 non-null object\n",
      "titre_court        4427 non-null object\n",
      "objet              4427 non-null object\n",
      "objet_social1      4427 non-null int64\n",
      "adrg_codepostal    4427 non-null int64\n",
      "departement        4427 non-null int64\n",
      "dtypes: int64(4), object(7)\n",
      "memory usage: 415.0+ KB\n"
     ]
    }
   ],
   "source": [
    "df_g.info()"
   ]
  },
  {
   "cell_type": "markdown",
   "metadata": {},
   "source": [
    "Save number of association per year of creation"
   ]
  },
  {
   "cell_type": "code",
   "execution_count": 11,
   "metadata": {},
   "outputs": [
    {
     "data": {
      "text/plain": [
       "annee\n",
       "2014    234\n",
       "2015    238\n",
       "2016    226\n",
       "2017    256\n",
       "2018    262\n",
       "Name: count, dtype: int64"
      ]
     },
     "execution_count": 11,
     "metadata": {},
     "output_type": "execute_result"
    }
   ],
   "source": [
    "df_g_y = df_g.groupby(['annee_creat']).count()['id']\n",
    "df_g_y.name = 'count'\n",
    "df_g_y.index.name = 'annee'\n",
    "df_g_y.drop(df_g_y.tail(1).index,inplace=True)\n",
    "df_g_y.to_csv('nb_asso_per_year.csv', header=True)\n",
    "df_g_y.tail(5)"
   ]
  },
  {
   "cell_type": "markdown",
   "metadata": {},
   "source": [
    "Bar chart representing the number of associations created by year"
   ]
  },
  {
   "cell_type": "code",
   "execution_count": 15,
   "metadata": {},
   "outputs": [
    {
     "data": {
      "image/png": "[encoded data removed]",
      "text/plain": [
       "<Figure size 432x288 with 1 Axes>"
      ]
     },
     "metadata": {
      "needs_background": "light"
     },
     "output_type": "display_data"
    },
    {
     "data": {
      "text/html": [
       "<div>\n",
       "<style scoped>\n",
       "    .dataframe tbody tr th:only-of-type {\n",
       "        vertical-align: middle;\n",
       "    }\n",
       "\n",
       "    .dataframe tbody tr th {\n",
       "        vertical-align: top;\n",
       "    }\n",
       "\n",
       "    .dataframe thead th {\n",
       "        text-align: right;\n",
       "    }\n",
       "</style>\n",
       "<table border=\"1\" class=\"dataframe\">\n",
       "  <thead>\n",
       "    <tr style=\"text-align: right;\">\n",
       "      <th></th>\n",
       "      <th>annee</th>\n",
       "      <th>count</th>\n",
       "    </tr>\n",
       "  </thead>\n",
       "  <tbody>\n",
       "    <tr>\n",
       "      <th>96</th>\n",
       "      <td>2014</td>\n",
       "      <td>234</td>\n",
       "    </tr>\n",
       "    <tr>\n",
       "      <th>97</th>\n",
       "      <td>2015</td>\n",
       "      <td>238</td>\n",
       "    </tr>\n",
       "    <tr>\n",
       "      <th>98</th>\n",
       "      <td>2016</td>\n",
       "      <td>226</td>\n",
       "    </tr>\n",
       "    <tr>\n",
       "      <th>99</th>\n",
       "      <td>2017</td>\n",
       "      <td>256</td>\n",
       "    </tr>\n",
       "    <tr>\n",
       "      <th>100</th>\n",
       "      <td>2018</td>\n",
       "      <td>262</td>\n",
       "    </tr>\n",
       "  </tbody>\n",
       "</table>\n",
       "</div>"
      ],
      "text/plain": [
       "     annee  count\n",
       "96    2014    234\n",
       "97    2015    238\n",
       "98    2016    226\n",
       "99    2017    256\n",
       "100   2018    262"
      ]
     },
     "execution_count": 15,
     "metadata": {},
     "output_type": "execute_result"
    }
   ],
   "source": [
    "df = pd.read_csv('nb_asso_per_year.csv')\n",
    "\n",
    "df['annee'] = pd.to_numeric(df['annee'], errors='coerce')\n",
    "\n",
    "x = df['annee']\n",
    "y = df['count']\n",
    "plt.bar(x, y)\n",
    "plt.xlabel('Year')\n",
    "plt.ylabel('Associations created')\n",
    "plt.title('Number of associations created in Grenoble by year')\n",
    "\n",
    "plt.show()"
   ]
  },
  {
   "cell_type": "code",
   "execution_count": null,
   "metadata": {},
   "outputs": [],
   "source": []
  }
 ],
 "metadata": {
  "kernelspec": {
   "display_name": "Python 3",
   "language": "python",
   "name": "python3"
  },
  "language_info": {
   "codemirror_mode": {
    "name": "ipython",
    "version": 3
   },
   "file_extension": ".py",
   "mimetype": "text/x-python",
   "name": "python",
   "nbconvert_exporter": "python",
   "pygments_lexer": "ipython3",
   "version": "3.7.4"
  }
 },
 "nbformat": 4,
 "nbformat_minor": 2
}
